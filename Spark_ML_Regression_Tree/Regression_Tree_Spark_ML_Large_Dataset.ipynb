{
 "cells": [
  {
   "cell_type": "markdown",
   "metadata": {},
   "source": [
    "# 0 - Load the modules"
   ]
  },
  {
   "cell_type": "code",
   "execution_count": 154,
   "metadata": {},
   "outputs": [
    {
     "data": {
      "text/plain": [
       "import org.apache.spark.sql.SparkSession\n",
       "import org.apache.spark.ml.feature.{IndexToString, StringIndexer, StringIndexerModel, VectorAssembler, VectorIndexer}\n",
       "import org.apache.spark.ml.Pipeline\n",
       "import org.apache.spark.ml.regression.DecisionTreeRegressionModel\n",
       "import org.apache.spark.ml.regression.DecisionTreeRegressor\n",
       "import org.apache.spark.ml.evaluation.RegressionEvaluator\n"
      ]
     },
     "execution_count": 154,
     "metadata": {},
     "output_type": "execute_result"
    }
   ],
   "source": [
    "import org.apache.spark.sql.SparkSession\n",
    "import org.apache.spark.ml.feature.{IndexToString, StringIndexer, StringIndexerModel, VectorAssembler, VectorIndexer}\n",
    "import org.apache.spark.ml.Pipeline\n",
    "\n",
    "import org.apache.spark.ml.regression.DecisionTreeRegressionModel\n",
    "import org.apache.spark.ml.regression.DecisionTreeRegressor\n",
    "import org.apache.spark.ml.evaluation.RegressionEvaluator"
   ]
  },
  {
   "cell_type": "markdown",
   "metadata": {},
   "source": [
    "# 1 - Start a Spark session"
   ]
  },
  {
   "cell_type": "code",
   "execution_count": 9,
   "metadata": {},
   "outputs": [
    {
     "data": {
      "text/plain": [
       "spark: org.apache.spark.sql.SparkSession = org.apache.spark.sql.SparkSession@638b8cfe\n",
       "import spark.implicits._\n"
      ]
     },
     "execution_count": 9,
     "metadata": {},
     "output_type": "execute_result"
    }
   ],
   "source": [
    "val spark = SparkSession\n",
    ".builder\n",
    ".appName(\"auto\")\n",
    ".config(\"spark.master\", \"local\")\n",
    ".getOrCreate()\n",
    "\n",
    "import spark.implicits._"
   ]
  },
  {
   "cell_type": "markdown",
   "metadata": {},
   "source": [
    "# 2 - Load Data"
   ]
  },
  {
   "cell_type": "code",
   "execution_count": 10,
   "metadata": {},
   "outputs": [
    {
     "name": "stdout",
     "output_type": "stream",
     "text": [
      "+-------------------+--------------------+------+---------+-----+------+-----------+------------------+---------+-------+-----+---------+-------------------+--------+----------+-----------------+-------------------+------------+----------+-------------------+\n",
      "|        dateCrawled|                name|seller|offerType|price|abtest|vehicleType|yearOfRegistration|  gearbox|powerPS|model|kilometer|monthOfRegistration|fuelType|     brand|notRepairedDamage|        dateCreated|nrOfPictures|postalCode|           lastSeen|\n",
      "+-------------------+--------------------+------+---------+-----+------+-----------+------------------+---------+-------+-----+---------+-------------------+--------+----------+-----------------+-------------------+------------+----------+-------------------+\n",
      "|2016-03-24 11:52:17|          Golf_3_1.6|privat|  Angebot|  480|  test|       null|              1993|  manuell|      0| golf|   150000|                  0|  benzin|volkswagen|             null|2016-03-24 00:00:00|           0|     70435|2016-04-07 03:16:57|\n",
      "|2016-03-24 10:58:45|A5_Sportback_2.7_Tdi|privat|  Angebot|18300|  test|      coupe|              2011|  manuell|    190| null|   125000|                  5|  diesel|      audi|               ja|2016-03-24 00:00:00|           0|     66954|2016-04-07 01:46:50|\n",
      "|2016-03-14 12:52:21|Jeep_Grand_Cherok...|privat|  Angebot| 9800|  test|        suv|              2004|automatik|    163|grand|   125000|                  8|  diesel|      jeep|             null|2016-03-14 00:00:00|           0|     90480|2016-04-05 12:47:46|\n",
      "|2016-03-17 16:54:04|  GOLF_4_1_4__3T�RER|privat|  Angebot| 1500|  test| kleinwagen|              2001|  manuell|     75| golf|   150000|                  6|  benzin|volkswagen|             nein|2016-03-17 00:00:00|           0|     91074|2016-03-17 17:40:17|\n",
      "|2016-03-31 17:25:20|Skoda_Fabia_1.4_T...|privat|  Angebot| 3600|  test| kleinwagen|              2008|  manuell|     69|fabia|    90000|                  7|  diesel|     skoda|             nein|2016-03-31 00:00:00|           0|     60437|2016-04-06 10:17:21|\n",
      "+-------------------+--------------------+------+---------+-----+------+-----------+------------------+---------+-------+-----+---------+-------------------+--------+----------+-----------------+-------------------+------------+----------+-------------------+\n",
      "only showing top 5 rows\n",
      "\n",
      "root\n",
      " |-- dateCrawled: timestamp (nullable = true)\n",
      " |-- name: string (nullable = true)\n",
      " |-- seller: string (nullable = true)\n",
      " |-- offerType: string (nullable = true)\n",
      " |-- price: integer (nullable = true)\n",
      " |-- abtest: string (nullable = true)\n",
      " |-- vehicleType: string (nullable = true)\n",
      " |-- yearOfRegistration: integer (nullable = true)\n",
      " |-- gearbox: string (nullable = true)\n",
      " |-- powerPS: integer (nullable = true)\n",
      " |-- model: string (nullable = true)\n",
      " |-- kilometer: integer (nullable = true)\n",
      " |-- monthOfRegistration: integer (nullable = true)\n",
      " |-- fuelType: string (nullable = true)\n",
      " |-- brand: string (nullable = true)\n",
      " |-- notRepairedDamage: string (nullable = true)\n",
      " |-- dateCreated: timestamp (nullable = true)\n",
      " |-- nrOfPictures: integer (nullable = true)\n",
      " |-- postalCode: integer (nullable = true)\n",
      " |-- lastSeen: timestamp (nullable = true)\n",
      "\n"
     ]
    },
    {
     "data": {
      "text/plain": [
       "workingDir: String = data/\n",
       "df: org.apache.spark.sql.DataFrame = [dateCrawled: timestamp, name: string ... 18 more fields]\n"
      ]
     },
     "execution_count": 10,
     "metadata": {},
     "output_type": "execute_result"
    }
   ],
   "source": [
    "val workingDir = \"data/\"\n",
    "val df = spark.read.format(\"csv\")\n",
    ".option(\"header\",\"true\")\n",
    ".option(\"inferSchema\",\"true\")\n",
    ".option(\"timestampFormat\", \"yyyy-MM-dd HH:mm:ss\")\n",
    ".load(\"data/autos.csv\")\n",
    "df.show(5)\n",
    "df.printSchema"
   ]
  },
  {
   "cell_type": "markdown",
   "metadata": {},
   "source": [
    "# 3 - Data exploration and preprocessing"
   ]
  },
  {
   "cell_type": "markdown",
   "metadata": {},
   "source": [
    "## 3.1 - Null ratio for each column"
   ]
  },
  {
   "cell_type": "code",
   "execution_count": 11,
   "metadata": {},
   "outputs": [
    {
     "data": {
      "text/plain": [
       "nbRows: Long = 371824\n",
       "nullAttsStats: scala.collection.immutable.Map[String,Float] = Map(lastSeen -> 2.6894445E-6, name -> 0.0, yearOfRegistration -> 2.6894445E-6, model -> 0.05513092, abtest -> 2.6894445E-6, powerPS -> 2.6894445E-6, fuelType -> 0.089870475, notRepairedDamage -> 0.1939735, price -> 2.6894445E-6, vehicleType -> 0.10192995, dateCrawled -> 0.0, offerType -> 2.6894445E-6, gearbox -> 0.054391325, monthOfRegistration -> 2.6894445E-6, brand -> 2.6894445E-6, postalCode -> 2.6894445E-6, dateCreated -> 2.6894445E-6, nrOfPictures -> 2.6894445E-6, kilometer -> 2.6894445E-6, seller -> 2.6894445E-6)\n"
      ]
     },
     "execution_count": 11,
     "metadata": {},
     "output_type": "execute_result"
    }
   ],
   "source": [
    "val nbRows = df.count()\n",
    "\n",
    "val nullAttsStats = df.columns.map(a => (a, df.where(col(a).isNull===true)\n",
    "                              .count/nbRows.toFloat)).toMap"
   ]
  },
  {
   "cell_type": "code",
   "execution_count": 12,
   "metadata": {},
   "outputs": [
    {
     "name": "stdout",
     "output_type": "stream",
     "text": [
      "Ratio of nulls in gearbox: 5.4391327%\n",
      "Ratio of nulls in model: 5.513092%\n",
      "Ratio of nulls in fuelType: 8.987047%\n",
      "Ratio of nulls in vehicleType: 10.192995%\n",
      "Ratio of nulls in notRepairedDamage: 19.39735%\n"
     ]
    }
   ],
   "source": [
    "nullAttsStats.filter{case(att,ratio)=> ratio>0.01}\n",
    "             .toSeq\n",
    "             .sortWith(_._2<_._2)\n",
    "             .map{case(att,ratio) =>\"Ratio of nulls in \"+ att +\": \"+ ratio*100 + \"%\"}\n",
    "             .foreach(println)"
   ]
  },
  {
   "cell_type": "markdown",
   "metadata": {},
   "source": [
    "## 3.2 - Distinct values for each column"
   ]
  },
  {
   "cell_type": "code",
   "execution_count": 13,
   "metadata": {},
   "outputs": [
    {
     "data": {
      "text/plain": [
       "attDistValsList: scala.collection.immutable.Map[String,Long] = Map(lastSeen -> 182905, name -> 233698, yearOfRegistration -> 156, model -> 252, abtest -> 3, powerPS -> 795, fuelType -> 8, notRepairedDamage -> 3, price -> 5598, vehicleType -> 9, dateCrawled -> 280652, offerType -> 3, gearbox -> 3, monthOfRegistration -> 14, brand -> 41, postalCode -> 8152, dateCreated -> 115, nrOfPictures -> 2, kilometer -> 14, seller -> 3)\n"
      ]
     },
     "execution_count": 13,
     "metadata": {},
     "output_type": "execute_result"
    }
   ],
   "source": [
    "val attDistValsList = df.columns.map(att=> (att, df.select(att)\n",
    "                                .distinct().count()))\n",
    "                                .toMap"
   ]
  },
  {
   "cell_type": "code",
   "execution_count": 14,
   "metadata": {},
   "outputs": [
    {
     "name": "stdout",
     "output_type": "stream",
     "text": [
      "column nrOfPictures has 2 distinct values\n",
      "column abtest has 3 distinct values\n",
      "column notRepairedDamage has 3 distinct values\n",
      "column offerType has 3 distinct values\n",
      "column gearbox has 3 distinct values\n",
      "column seller has 3 distinct values\n",
      "column fuelType has 8 distinct values\n",
      "column vehicleType has 9 distinct values\n",
      "column monthOfRegistration has 14 distinct values\n",
      "column kilometer has 14 distinct values\n",
      "column brand has 41 distinct values\n",
      "column dateCreated has 115 distinct values\n",
      "column yearOfRegistration has 156 distinct values\n",
      "column model has 252 distinct values\n",
      "column powerPS has 795 distinct values\n",
      "column price has 5598 distinct values\n",
      "column postalCode has 8152 distinct values\n",
      "column lastSeen has 182905 distinct values\n",
      "column name has 233698 distinct values\n",
      "column dateCrawled has 280652 distinct values\n"
     ]
    }
   ],
   "source": [
    "attDistValsList.toSeq\n",
    "               .sortWith(_._2<_._2)\n",
    "               .foreach{case(att,countDist)=>println(s\"column $att has $countDist distinct values\")}"
   ]
  },
  {
   "cell_type": "markdown",
   "metadata": {},
   "source": [
    "## 3.3 - Remove outliers on target value"
   ]
  },
  {
   "cell_type": "code",
   "execution_count": 74,
   "metadata": {},
   "outputs": [
    {
     "name": "stdout",
     "output_type": "stream",
     "text": [
      "+-------+------------------+\n",
      "|summary|             price|\n",
      "+-------+------------------+\n",
      "|  count|            371823|\n",
      "|   mean|17286.338865535483|\n",
      "| stddev|3586530.1840677853|\n",
      "|    min|                 0|\n",
      "|    25%|              1150|\n",
      "|    50%|              2950|\n",
      "|    75%|              7200|\n",
      "|    max|        2147483647|\n",
      "+-------+------------------+\n",
      "\n"
     ]
    }
   ],
   "source": [
    "df.select(\"price\").summary().show()"
   ]
  },
  {
   "cell_type": "code",
   "execution_count": 129,
   "metadata": {},
   "outputs": [
    {
     "data": {
      "text/plain": [
       "c75: Double = 6999.0\n",
       "c25: Double = 1150.0\n",
       "c5: Double = 200.0\n",
       "IR: Double = 8773.5\n",
       "df_bis: org.apache.spark.sql.DataFrame = [dateCrawled: timestamp, name: string ... 18 more fields]\n"
      ]
     },
     "execution_count": 129,
     "metadata": {},
     "output_type": "execute_result"
    }
   ],
   "source": [
    "val c75 = df.stat.approxQuantile(\"price\", Array(0.75), 0.01)(0)\n",
    "val c25 = df.stat.approxQuantile(\"price\", Array(0.25), 0.01)(0)\n",
    "val c5 = df.stat.approxQuantile(\"price\", Array(0.05), 0.01)(0)\n",
    "\n",
    "val IR = (c75-c25)*1.5\n",
    "\n",
    "val df_bis = df.filter($\"price\" >= c5 and $\"price\" <= c75+IR)\n",
    "               .withColumn(\"monthOfRegistration\", col(\"monthOfRegistration\").cast(\"string\"))"
   ]
  },
  {
   "cell_type": "code",
   "execution_count": 130,
   "metadata": {},
   "outputs": [
    {
     "name": "stdout",
     "output_type": "stream",
     "text": [
      "+-------+------------------+\n",
      "|summary|             price|\n",
      "+-------+------------------+\n",
      "|  count|            324157|\n",
      "|   mean| 4116.705710504478|\n",
      "| stddev|3735.9490031849205|\n",
      "|    min|               200|\n",
      "|    25%|              1200|\n",
      "|    50%|              2800|\n",
      "|    75%|              5999|\n",
      "|    max|             15755|\n",
      "+-------+------------------+\n",
      "\n"
     ]
    }
   ],
   "source": [
    "df_bis.select(\"price\").summary().show()"
   ]
  },
  {
   "cell_type": "code",
   "execution_count": 131,
   "metadata": {},
   "outputs": [
    {
     "data": {
      "text/plain": [
       "res50: (Array[Double], Array[Long]) = (Array(200.0, 1755.5, 3311.0, 4866.5, 6422.0, 7977.5, 9533.0, 11088.5, 12644.0, 14199.5, 15755.0),Array(116150, 65393, 39205, 28052, 22021, 17412, 12473, 8639, 8247, 6565))\n"
      ]
     },
     "execution_count": 131,
     "metadata": {},
     "output_type": "execute_result"
    }
   ],
   "source": [
    "// ##### display histogram\n",
    "df_bis.select(\"price\").where(\"price is not null\").rdd.map(x=>x.getInt(0)).histogram(10)"
   ]
  },
  {
   "cell_type": "markdown",
   "metadata": {},
   "source": [
    "## 3.4 Remove some attributes"
   ]
  },
  {
   "cell_type": "markdown",
   "metadata": {},
   "source": [
    "### Attribute with < 8 disctint values"
   ]
  },
  {
   "cell_type": "code",
   "execution_count": 132,
   "metadata": {},
   "outputs": [
    {
     "data": {
      "text/plain": [
       "rmv_1: Seq[String] = List(abtest, notRepairedDamage, offerType, gearbox, nrOfPictures, seller)\n"
      ]
     },
     "execution_count": 132,
     "metadata": {},
     "output_type": "execute_result"
    }
   ],
   "source": [
    "val rmv_1 = attDistValsList.filter{case(att,countDist)=> countDist<8}.map{case(att,countDist)=>att}.toSeq"
   ]
  },
  {
   "cell_type": "markdown",
   "metadata": {},
   "source": [
    "### Time stamp attributes"
   ]
  },
  {
   "cell_type": "code",
   "execution_count": 133,
   "metadata": {},
   "outputs": [
    {
     "data": {
      "text/plain": [
       "rmv_2: List[String] = List(dateCrawled, dateCreated, lastSeen, name, model)\n"
      ]
     },
     "execution_count": 133,
     "metadata": {},
     "output_type": "execute_result"
    }
   ],
   "source": [
    "// timestamp attributes\n",
    "val rmv_2 = List(\"dateCrawled\",\"dateCreated\", \"lastSeen\",\"name\",\"model\")"
   ]
  },
  {
   "cell_type": "code",
   "execution_count": 134,
   "metadata": {},
   "outputs": [
    {
     "data": {
      "text/plain": [
       "attToRemove: Seq[String] = List(abtest, notRepairedDamage, offerType, gearbox, nrOfPictures, seller, dateCrawled, dateCreated, lastSeen, name, model, postalCode)\n",
       "data: org.apache.spark.sql.DataFrame = [price: int, vehicleType: string ... 6 more fields]\n"
      ]
     },
     "execution_count": 134,
     "metadata": {},
     "output_type": "execute_result"
    }
   ],
   "source": [
    "val attToRemove =  rmv_1 ++ rmv_2 ++ List(\"postalCode\")\n",
    "val data = df_bis.drop(attToRemove : _*).na.drop()"
   ]
  },
  {
   "cell_type": "markdown",
   "metadata": {},
   "source": [
    "# 4 - Final Dataset"
   ]
  },
  {
   "cell_type": "code",
   "execution_count": 135,
   "metadata": {},
   "outputs": [
    {
     "name": "stdout",
     "output_type": "stream",
     "text": [
      "+-----+-----------+------------------+-------+---------+-------------------+--------+----------+\n",
      "|price|vehicleType|yearOfRegistration|powerPS|kilometer|monthOfRegistration|fuelType|     brand|\n",
      "+-----+-----------+------------------+-------+---------+-------------------+--------+----------+\n",
      "| 9800|        suv|              2004|    163|   125000|                  8|  diesel|      jeep|\n",
      "| 1500| kleinwagen|              2001|     75|   150000|                  6|  benzin|volkswagen|\n",
      "| 3600| kleinwagen|              2008|     69|    90000|                  7|  diesel|     skoda|\n",
      "|  650|  limousine|              1995|    102|   150000|                 10|  benzin|       bmw|\n",
      "| 2200|     cabrio|              2004|    109|   150000|                  8|  benzin|   peugeot|\n",
      "+-----+-----------+------------------+-------+---------+-------------------+--------+----------+\n",
      "only showing top 5 rows\n",
      "\n"
     ]
    }
   ],
   "source": [
    "data.show(5)\n",
    "data.printSchema"
   ]
  },
  {
   "cell_type": "code",
   "execution_count": 137,
   "metadata": {},
   "outputs": [
    {
     "data": {
      "text/plain": [
       "res53: Long = 279516\n"
      ]
     },
     "execution_count": 137,
     "metadata": {},
     "output_type": "execute_result"
    }
   ],
   "source": [
    "data.count()"
   ]
  },
  {
   "cell_type": "markdown",
   "metadata": {},
   "source": [
    "# 5 - Features indexation, Target indexation, Training/Test Split"
   ]
  },
  {
   "cell_type": "markdown",
   "metadata": {},
   "source": [
    "## 5.1 Target indexation"
   ]
  },
  {
   "cell_type": "code",
   "execution_count": 138,
   "metadata": {},
   "outputs": [
    {
     "data": {
      "text/plain": [
       "label: String = price\n",
       "labelIndexer: org.apache.spark.ml.feature.StringIndexer = strIdx_4e8982b772d7\n"
      ]
     },
     "execution_count": 138,
     "metadata": {},
     "output_type": "execute_result"
    }
   ],
   "source": [
    "\n",
    "val label = \"price\"\n",
    "val labelIndexer = new StringIndexer()\n",
    "    .setInputCol(label)\n",
    "    .setOutputCol(\"indexed_\" + label) "
   ]
  },
  {
   "cell_type": "markdown",
   "metadata": {},
   "source": [
    "## 5.2 - Features String encoding"
   ]
  },
  {
   "cell_type": "code",
   "execution_count": 139,
   "metadata": {},
   "outputs": [
    {
     "data": {
      "text/plain": [
       "attributes: Array[String] = Array(vehicleType, yearOfRegistration, powerPS, kilometer, monthOfRegistration, fuelType, brand)\n",
       "catFeatIndexer: Array[org.apache.spark.ml.feature.StringIndexer] = Array(strIdx_832fc318fbf3, strIdx_5bedcec6d6e7, strIdx_561bb6722621, strIdx_b5cc0e680908, strIdx_eba1a5f203b5, strIdx_cfbea2803dbc, strIdx_4c3c76ceb65b)\n"
      ]
     },
     "execution_count": 139,
     "metadata": {},
     "output_type": "execute_result"
    }
   ],
   "source": [
    "val attributes= data.columns.filterNot(_.contains(label))\n",
    "val catFeatIndexer= attributes.map{\n",
    "    att => \n",
    "    new StringIndexer()\n",
    "    .setInputCol(att)\n",
    "    .setOutputCol(\"indexed_\" + att)   \n",
    "} \n"
   ]
  },
  {
   "cell_type": "markdown",
   "metadata": {},
   "source": [
    "## 5.3 - Fit the string indexer to the data and extract the labels"
   ]
  },
  {
   "cell_type": "code",
   "execution_count": 140,
   "metadata": {},
   "outputs": [
    {
     "data": {
      "text/plain": [
       "indcatFeatIndexer: Array[(String, Int)] = Array((indexed_vehicleType,0), (indexed_yearOfRegistration,1), (indexed_powerPS,2), (indexed_kilometer,3), (indexed_monthOfRegistration,4), (indexed_fuelType,5), (indexed_brand,6))\n"
      ]
     },
     "execution_count": 140,
     "metadata": {},
     "output_type": "execute_result"
    }
   ],
   "source": [
    "val indcatFeatIndexer = catFeatIndexer.map(x=>x.getOutputCol).zipWithIndex"
   ]
  },
  {
   "cell_type": "markdown",
   "metadata": {},
   "source": [
    "## 5.4 - Assemble the indexed features"
   ]
  },
  {
   "cell_type": "code",
   "execution_count": 141,
   "metadata": {},
   "outputs": [
    {
     "data": {
      "text/plain": [
       "features: Array[String] = Array(indexed_vehicleType, indexed_yearOfRegistration, indexed_powerPS, indexed_kilometer, indexed_monthOfRegistration, indexed_fuelType, indexed_brand)\n",
       "vectorAssemb: org.apache.spark.ml.feature.VectorAssembler = VectorAssembler: uid=vecAssembler_0e9ca661a809, handleInvalid=error, numInputCols=7\n"
      ]
     },
     "execution_count": 141,
     "metadata": {},
     "output_type": "execute_result"
    }
   ],
   "source": [
    "val features = catFeatIndexer.map(_.getOutputCol)\n",
    "\n",
    "val vectorAssemb = new VectorAssembler()\n",
    ".setInputCols(features)\n",
    ".setOutputCol(\"assembled\")"
   ]
  },
  {
   "cell_type": "markdown",
   "metadata": {},
   "source": [
    "## 5.5 - Index the vectors"
   ]
  },
  {
   "cell_type": "code",
   "execution_count": 142,
   "metadata": {},
   "outputs": [
    {
     "data": {
      "text/plain": [
       "maxCat: Int = 800\n",
       "vecIndexer: org.apache.spark.ml.feature.VectorIndexer = vecIdx_b9a54d5e493c\n"
      ]
     },
     "execution_count": 142,
     "metadata": {},
     "output_type": "execute_result"
    }
   ],
   "source": [
    "val maxCat = 800\n",
    "val vecIndexer = new VectorIndexer()\n",
    ".setInputCol(vectorAssemb.getOutputCol)\n",
    ".setOutputCol(\"features\")\n",
    ".setMaxCategories(maxCat)\n"
   ]
  },
  {
   "cell_type": "markdown",
   "metadata": {},
   "source": [
    "# 6 - Build and fit the pipeline on data"
   ]
  },
  {
   "cell_type": "code",
   "execution_count": 143,
   "metadata": {},
   "outputs": [
    {
     "data": {
      "text/plain": [
       "pipeline: org.apache.spark.ml.Pipeline = pipeline_122f799c50c7\n"
      ]
     },
     "execution_count": 143,
     "metadata": {},
     "output_type": "execute_result"
    }
   ],
   "source": [
    "val pipeline = new Pipeline()\n",
    ".setStages(Array(labelIndexer)++catFeatIndexer++Array(vectorAssemb,vecIndexer))"
   ]
  },
  {
   "cell_type": "code",
   "execution_count": 144,
   "metadata": {},
   "outputs": [
    {
     "data": {
      "text/plain": [
       "import org.apache.spark.sql.types.DoubleType\n",
       "ftdata: org.apache.spark.sql.DataFrame = [features: vector, label: double]\n"
      ]
     },
     "execution_count": 144,
     "metadata": {},
     "output_type": "execute_result"
    }
   ],
   "source": [
    "import org.apache.spark.sql.types.DoubleType\n",
    "val ftdata = pipeline.fit(data).transform(data)\n",
    ".withColumn(\"label\",col(label).cast(DoubleType))\n",
    ".select(\"features\",\"label\")\n"
   ]
  },
  {
   "cell_type": "markdown",
   "metadata": {},
   "source": [
    "## Check final dataset"
   ]
  },
  {
   "cell_type": "code",
   "execution_count": 145,
   "metadata": {},
   "outputs": [
    {
     "name": "stdout",
     "output_type": "stream",
     "text": [
      "root\n",
      " |-- features: vector (nullable = true)\n",
      " |-- label: double (nullable = true)\n",
      "\n",
      "+--------------------+-------+\n",
      "|            features|  label|\n",
      "+--------------------+-------+\n",
      "|[6.0,3.0,13.0,1.0...| 9800.0|\n",
      "|[1.0,5.0,1.0,0.0,...| 1500.0|\n",
      "|[1.0,10.0,22.0,3....| 3600.0|\n",
      "|[0.0,16.0,12.0,0....|  650.0|\n",
      "|[4.0,3.0,17.0,0.0...| 2200.0|\n",
      "|[3.0,24.0,10.0,9....|14500.0|\n",
      "|[0.0,3.0,8.0,0.0,...| 2000.0|\n",
      "|[2.0,2.0,5.0,0.0,...| 2799.0|\n",
      "|[2.0,16.0,29.0,0....|  999.0|\n",
      "|[1.0,69.0,0.0,10....|  450.0|\n",
      "|[1.0,3.0,1.0,0.0,...| 1750.0|\n",
      "|[3.0,8.0,11.0,0.0...| 7550.0|\n",
      "|[3.0,3.0,12.0,0.0...| 1850.0|\n",
      "|[5.0,11.0,34.0,2....|10400.0|\n",
      "|[0.0,7.0,38.0,0.0...| 3699.0|\n",
      "|[1.0,12.0,20.0,0....|  450.0|\n",
      "|[0.0,23.0,49.0,0....|  500.0|\n",
      "|[2.0,7.0,30.0,0.0...| 2500.0|\n",
      "|[0.0,10.0,77.0,6....| 6900.0|\n",
      "|[3.0,36.0,20.0,10...| 1990.0|\n",
      "+--------------------+-------+\n",
      "only showing top 20 rows\n",
      "\n"
     ]
    }
   ],
   "source": [
    "ftdata.printSchema\n",
    "ftdata.show()"
   ]
  },
  {
   "cell_type": "markdown",
   "metadata": {},
   "source": [
    "# 7 - Train/Test Split"
   ]
  },
  {
   "cell_type": "code",
   "execution_count": 146,
   "metadata": {},
   "outputs": [
    {
     "data": {
      "text/plain": [
       "trainingData: org.apache.spark.sql.Dataset[org.apache.spark.sql.Row] = [features: vector, label: double]\n",
       "testData: org.apache.spark.sql.Dataset[org.apache.spark.sql.Row] = [features: vector, label: double]\n"
      ]
     },
     "execution_count": 146,
     "metadata": {},
     "output_type": "execute_result"
    }
   ],
   "source": [
    "val Array(trainingData,testData)= ftdata.randomSplit(Array(0.7,0.3))"
   ]
  },
  {
   "cell_type": "markdown",
   "metadata": {},
   "source": [
    "# 8 - Decision Tree : build, train, evaluate"
   ]
  },
  {
   "cell_type": "code",
   "execution_count": 147,
   "metadata": {},
   "outputs": [
    {
     "data": {
      "text/plain": [
       "import org.apache.spark.ml.regression.DecisionTreeRegressionModel\n",
       "import org.apache.spark.ml.regression.DecisionTreeRegressor\n",
       "import org.apache.spark.ml.evaluation.RegressionEvaluator\n",
       "dt: org.apache.spark.ml.regression.DecisionTreeRegressor = dtr_b0a23103d84b\n",
       "model: org.apache.spark.ml.regression.DecisionTreeRegressionModel = DecisionTreeRegressionModel: uid=dtr_b0a23103d84b, depth=5, numNodes=63, numFeatures=7\n"
      ]
     },
     "execution_count": 147,
     "metadata": {},
     "output_type": "execute_result"
    }
   ],
   "source": [
    "// ####### build the model\n",
    "val dt = new DecisionTreeRegressor()\n",
    ".setLabelCol(\"label\")\n",
    ".setFeaturesCol(\"features\")\n",
    ".setMaxBins(maxCat)\n",
    ".setMinInstancesPerNode(100)\n",
    "\n",
    "// ####### train the model\n",
    "val model = dt.fit(trainingData)\n"
   ]
  },
  {
   "cell_type": "code",
   "execution_count": 148,
   "metadata": {},
   "outputs": [
    {
     "name": "stdout",
     "output_type": "stream",
     "text": [
      "Learned classification tree model :\n",
      " DecisionTreeRegressionModel: uid=dtr_b0a23103d84b, depth=5, numNodes=63, numFeatures=7\n",
      "  If (feature 1 in {0.0,1.0,3.0,5.0,6.0,7.0,9.0,12.0,13.0,16.0,18.0,19.0,21.0,22.0,23.0,25.0,26.0,28.0,29.0,30.0,32.0,69.0,71.0,75.0,81.0,83.0,84.0,87.0})\n",
      "   If (feature 2 in {0.0,1.0,2.0,3.0,4.0,5.0,6.0,7.0,8.0,10.0,11.0,12.0,14.0,15.0,17.0,18.0,19.0,20.0,21.0,22.0,23.0,24.0,26.0,27.0,28.0,29.0,30.0,31.0,32.0,36.0,40.0,42.0,43.0,44.0,46.0,47.0,48.0,49.0,50.0,55.0,56.0,57.0,58.0,59.0,60.0,61.0,62.0,63.0,64.0,65.0,66.0,67.0,68.0,69.0,70.0,71.0,72.0,76.0,77.0,79.0,82.0,83.0,84.0,85.0,88.0,89.0,90.0,91.0,92.0,93.0,95.0,96.0,98.0,99.0,100.0,101.0,103.0,104.0,105.0,106.0,107.0,108.0,109.0,113.0,115.0,116.0,118.0,120.0,121.0,124.0,125.0,126.0,128.0,130.0,131.0,136.0,137.0,140.0,141.0,143.0,144.0,145.0,146.0,147.0,149.0,150.0,153.0,156.0,158.0,159.0,160.0,162.0,164.0,166.0,167.0,170.0,172.0,173.0,176.0,179.0,182.0,184.0,188.0,190.0,191.0,194.0,198.0,200.0,201.0,202.0,204.0,205.0,206.0,209.0,213.0,219.0,220.0,221.0,222.0,225.0,226.0,229.0,234.0,235.0,240.0,245.0,246.0,250.0,251.0,254.0,259.0,260.0,264.0,275.0,277.0,286.0,287.0,290.0,292.0,293.0,303.0,305.0,307.0,308.0,314.0,315.0,318.0,320.0,322.0,323.0,324.0,325.0,326.0,327.0,330.0,342.0,344.0,345.0,356.0,357.0,358.0,361.0,363.0,364.0,366.0,367.0,368.0,370.0,371.0,372.0,373.0,374.0,391.0,397.0,399.0,401.0,402.0,404.0,405.0,411.0,412.0,415.0,416.0,417.0,418.0,420.0,421.0,422.0,423.0,424.0,425.0,426.0,427.0,430.0,435.0,438.0,439.0,440.0,441.0,442.0,445.0,448.0,451.0,457.0,462.0,464.0,466.0,470.0,472.0,481.0,482.0,488.0,491.0,493.0,494.0,499.0,501.0,503.0,504.0,510.0,513.0,514.0,516.0,521.0,523.0,540.0,543.0,549.0,552.0,555.0,556.0,559.0,564.0,566.0,568.0,569.0,575.0,583.0,584.0,587.0,590.0,591.0,592.0,596.0,598.0,600.0,601.0})\n",
      "    If (feature 2 in {0.0,1.0,2.0,4.0,7.0,10.0,14.0,20.0,21.0,23.0,27.0,28.0,29.0,31.0,32.0,36.0,40.0,42.0,44.0,46.0,47.0,48.0,61.0,63.0,64.0,66.0,68.0,71.0,85.0,88.0,90.0,92.0,98.0,103.0,104.0,105.0,106.0,107.0,108.0,113.0,118.0,120.0,128.0,136.0,137.0,146.0,147.0,149.0,150.0,156.0,162.0,166.0,170.0,172.0,184.0,194.0,200.0,201.0,202.0,204.0,206.0,219.0,225.0,226.0,234.0,235.0,240.0,246.0,251.0,254.0,275.0,277.0,290.0,292.0,293.0,308.0,314.0,315.0,320.0,322.0,323.0,324.0,325.0,326.0,327.0,342.0,344.0,356.0,357.0,358.0,361.0,363.0,368.0,370.0,374.0,391.0,397.0,399.0,401.0,404.0,405.0,412.0,415.0,416.0,417.0,420.0,421.0,422.0,423.0,424.0,425.0,426.0,430.0,435.0,438.0,440.0,441.0,442.0,448.0,462.0,464.0,470.0,472.0,481.0,482.0,488.0,491.0,493.0,501.0,503.0,504.0,510.0,513.0,514.0,521.0,523.0,540.0,543.0,549.0,552.0,555.0,556.0,559.0,564.0,566.0,568.0,569.0,575.0,583.0,584.0,587.0,590.0,591.0,592.0,596.0,598.0,600.0})\n",
      "     If (feature 1 in {0.0,5.0,6.0,9.0,12.0,13.0,16.0,18.0,19.0,21.0,22.0,23.0,69.0,84.0,87.0})\n",
      "      If (feature 0 in {0.0,1.0,2.0,5.0,7.0})\n",
      "       Predict: 1111.2480714285714\n",
      "      Else (feature 0 not in {0.0,1.0,2.0,5.0,7.0})\n",
      "       Predict: 2059.6204494382023\n",
      "     Else (feature 1 not in {0.0,5.0,6.0,9.0,12.0,13.0,16.0,18.0,19.0,21.0,22.0,23.0,69.0,84.0,87.0})\n",
      "      If (feature 6 in {1.0,5.0,6.0,7.0,8.0,9.0,10.0,11.0,13.0,15.0,16.0,19.0,21.0,22.0,28.0,29.0,31.0,34.0,36.0,37.0,38.0,39.0})\n",
      "       Predict: 1847.25932471398\n",
      "      Else (feature 6 not in {1.0,5.0,6.0,7.0,8.0,9.0,10.0,11.0,13.0,15.0,16.0,19.0,21.0,22.0,28.0,29.0,31.0,34.0,36.0,37.0,38.0,39.0})\n",
      "       Predict: 2958.734642272795\n",
      "    Else (feature 2 not in {0.0,1.0,2.0,4.0,7.0,10.0,14.0,20.0,21.0,23.0,27.0,28.0,29.0,31.0,32.0,36.0,40.0,42.0,44.0,46.0,47.0,48.0,61.0,63.0,64.0,66.0,68.0,71.0,85.0,88.0,90.0,92.0,98.0,103.0,104.0,105.0,106.0,107.0,108.0,113.0,118.0,120.0,128.0,136.0,137.0,146.0,147.0,149.0,150.0,156.0,162.0,166.0,170.0,172.0,184.0,194.0,200.0,201.0,202.0,204.0,206.0,219.0,225.0,226.0,234.0,235.0,240.0,246.0,251.0,254.0,275.0,277.0,290.0,292.0,293.0,308.0,314.0,315.0,320.0,322.0,323.0,324.0,325.0,326.0,327.0,342.0,344.0,356.0,357.0,358.0,361.0,363.0,368.0,370.0,374.0,391.0,397.0,399.0,401.0,404.0,405.0,412.0,415.0,416.0,417.0,420.0,421.0,422.0,423.0,424.0,425.0,426.0,430.0,435.0,438.0,440.0,441.0,442.0,448.0,462.0,464.0,470.0,472.0,481.0,482.0,488.0,491.0,493.0,501.0,503.0,504.0,510.0,513.0,514.0,521.0,523.0,540.0,543.0,549.0,552.0,555.0,556.0,559.0,564.0,566.0,568.0,569.0,575.0,583.0,584.0,587.0,590.0,591.0,592.0,596.0,598.0,600.0})\n",
      "     If (feature 1 in {0.0,5.0,6.0,7.0,9.0,12.0,13.0,16.0,18.0,19.0,21.0,22.0,25.0,71.0})\n",
      "      If (feature 0 in {0.0,1.0,2.0,5.0,7.0})\n",
      "       Predict: 2007.0013817880338\n",
      "      Else (feature 0 not in {0.0,1.0,2.0,5.0,7.0})\n",
      "       Predict: 3490.8872056644163\n",
      "     Else (feature 1 not in {0.0,5.0,6.0,7.0,9.0,12.0,13.0,16.0,18.0,19.0,21.0,22.0,25.0,71.0})\n",
      "      If (feature 6 in {1.0,5.0,6.0,7.0,8.0,9.0,11.0,12.0,13.0,15.0,16.0,17.0,19.0,20.0,21.0,22.0,23.0,26.0,27.0,28.0,29.0,34.0,36.0,37.0,38.0,39.0})\n",
      "       Predict: 2751.440590264469\n",
      "      Else (feature 6 not in {1.0,5.0,6.0,7.0,8.0,9.0,11.0,12.0,13.0,15.0,16.0,17.0,19.0,20.0,21.0,22.0,23.0,26.0,27.0,28.0,29.0,34.0,36.0,37.0,38.0,39.0})\n",
      "       Predict: 4344.440067624683\n",
      "   Else (feature 2 not in {0.0,1.0,2.0,3.0,4.0,5.0,6.0,7.0,8.0,10.0,11.0,12.0,14.0,15.0,17.0,18.0,19.0,20.0,21.0,22.0,23.0,24.0,26.0,27.0,28.0,29.0,30.0,31.0,32.0,36.0,40.0,42.0,43.0,44.0,46.0,47.0,48.0,49.0,50.0,55.0,56.0,57.0,58.0,59.0,60.0,61.0,62.0,63.0,64.0,65.0,66.0,67.0,68.0,69.0,70.0,71.0,72.0,76.0,77.0,79.0,82.0,83.0,84.0,85.0,88.0,89.0,90.0,91.0,92.0,93.0,95.0,96.0,98.0,99.0,100.0,101.0,103.0,104.0,105.0,106.0,107.0,108.0,109.0,113.0,115.0,116.0,118.0,120.0,121.0,124.0,125.0,126.0,128.0,130.0,131.0,136.0,137.0,140.0,141.0,143.0,144.0,145.0,146.0,147.0,149.0,150.0,153.0,156.0,158.0,159.0,160.0,162.0,164.0,166.0,167.0,170.0,172.0,173.0,176.0,179.0,182.0,184.0,188.0,190.0,191.0,194.0,198.0,200.0,201.0,202.0,204.0,205.0,206.0,209.0,213.0,219.0,220.0,221.0,222.0,225.0,226.0,229.0,234.0,235.0,240.0,245.0,246.0,250.0,251.0,254.0,259.0,260.0,264.0,275.0,277.0,286.0,287.0,290.0,292.0,293.0,303.0,305.0,307.0,308.0,314.0,315.0,318.0,320.0,322.0,323.0,324.0,325.0,326.0,327.0,330.0,342.0,344.0,345.0,356.0,357.0,358.0,361.0,363.0,364.0,366.0,367.0,368.0,370.0,371.0,372.0,373.0,374.0,391.0,397.0,399.0,401.0,402.0,404.0,405.0,411.0,412.0,415.0,416.0,417.0,418.0,420.0,421.0,422.0,423.0,424.0,425.0,426.0,427.0,430.0,435.0,438.0,439.0,440.0,441.0,442.0,445.0,448.0,451.0,457.0,462.0,464.0,466.0,470.0,472.0,481.0,482.0,488.0,491.0,493.0,494.0,499.0,501.0,503.0,504.0,510.0,513.0,514.0,516.0,521.0,523.0,540.0,543.0,549.0,552.0,555.0,556.0,559.0,564.0,566.0,568.0,569.0,575.0,583.0,584.0,587.0,590.0,591.0,592.0,596.0,598.0,600.0,601.0})\n",
      "    If (feature 2 in {9.0,13.0,16.0,25.0,34.0,35.0,37.0,39.0,41.0,45.0,51.0,52.0,53.0,54.0,80.0,81.0,87.0,94.0,97.0,102.0,119.0,122.0,127.0,132.0,138.0,148.0,151.0,152.0,154.0,155.0,168.0,171.0,175.0,177.0,178.0,181.0,187.0,193.0,196.0,207.0,210.0,211.0,217.0,223.0,231.0,232.0,236.0,243.0,247.0,262.0,268.0,269.0,270.0,273.0,279.0,280.0,281.0,283.0,284.0,285.0,288.0,295.0,296.0,299.0,300.0,309.0,313.0,317.0,331.0,334.0,340.0,343.0,346.0,349.0,359.0,360.0,375.0,387.0,398.0,403.0,463.0,492.0,502.0,505.0,509.0,512.0,527.0,529.0})\n",
      "     If (feature 1 in {0.0,5.0,6.0,7.0,9.0,12.0,13.0,16.0,18.0,19.0,21.0,22.0})\n",
      "      If (feature 0 in {0.0,1.0,2.0,3.0,5.0})\n",
      "       Predict: 3333.2411034482757\n",
      "      Else (feature 0 not in {0.0,1.0,2.0,3.0,5.0})\n",
      "       Predict: 5982.629392971246\n",
      "     Else (feature 1 not in {0.0,5.0,6.0,7.0,9.0,12.0,13.0,16.0,18.0,19.0,21.0,22.0})\n",
      "      If (feature 0 in {0.0,1.0,2.0,3.0,5.0})\n",
      "       Predict: 5529.077774702463\n",
      "      Else (feature 0 not in {0.0,1.0,2.0,3.0,5.0})\n",
      "       Predict: 8263.475840336134\n",
      "    Else (feature 2 not in {9.0,13.0,16.0,25.0,34.0,35.0,37.0,39.0,41.0,45.0,51.0,52.0,53.0,54.0,80.0,81.0,87.0,94.0,97.0,102.0,119.0,122.0,127.0,132.0,138.0,148.0,151.0,152.0,154.0,155.0,168.0,171.0,175.0,177.0,178.0,181.0,187.0,193.0,196.0,207.0,210.0,211.0,217.0,223.0,231.0,232.0,236.0,243.0,247.0,262.0,268.0,269.0,270.0,273.0,279.0,280.0,281.0,283.0,284.0,285.0,288.0,295.0,296.0,299.0,300.0,309.0,313.0,317.0,331.0,334.0,340.0,343.0,346.0,349.0,359.0,360.0,375.0,387.0,398.0,403.0,463.0,492.0,502.0,505.0,509.0,512.0,527.0,529.0})\n",
      "     If (feature 2 in {33.0,38.0,73.0,75.0,78.0,110.0,111.0,112.0,117.0,129.0,139.0,142.0,157.0,165.0,174.0,195.0,199.0,214.0,216.0,218.0,227.0,233.0,241.0,242.0,248.0,252.0,253.0,255.0,256.0,261.0,265.0,272.0,282.0,289.0,291.0,294.0,297.0,301.0,302.0,321.0,333.0,338.0,353.0,483.0,531.0,544.0})\n",
      "      If (feature 0 in {0.0,1.0,2.0,3.0,5.0,6.0,7.0})\n",
      "       Predict: 6475.404292597459\n",
      "      Else (feature 0 not in {0.0,1.0,2.0,3.0,5.0,6.0,7.0})\n",
      "       Predict: 9868.228855721392\n",
      "     Else (feature 2 not in {33.0,38.0,73.0,75.0,78.0,110.0,111.0,112.0,117.0,129.0,139.0,142.0,157.0,165.0,174.0,195.0,199.0,214.0,216.0,218.0,227.0,233.0,241.0,242.0,248.0,252.0,253.0,255.0,256.0,261.0,265.0,272.0,282.0,289.0,291.0,294.0,297.0,301.0,302.0,321.0,333.0,338.0,353.0,483.0,531.0,544.0})\n",
      "      If (feature 1 in {0.0,5.0,6.0,9.0,13.0,18.0,22.0,23.0,26.0,28.0,29.0,32.0})\n",
      "       Predict: 8236.261282660333\n",
      "      Else (feature 1 not in {0.0,5.0,6.0,9.0,13.0,18.0,22.0,23.0,26.0,28.0,29.0,32.0})\n",
      "       Predict: 10319.85663716814\n",
      "  Else (feature 1 not in {0.0,1.0,3.0,5.0,6.0,7.0,9.0,12.0,13.0,16.0,18.0,19.0,21.0,22.0,23.0,25.0,26.0,28.0,29.0,30.0,32.0,69.0,71.0,75.0,81.0,83.0,84.0,87.0})\n",
      "   If (feature 2 in {0.0,1.0,2.0,4.0,7.0,14.0,15.0,17.0,20.0,21.0,22.0,23.0,26.0,27.0,29.0,31.0,32.0,36.0,40.0,42.0,44.0,46.0,48.0,49.0,56.0,58.0,59.0,60.0,61.0,62.0,64.0,66.0,68.0,69.0,71.0,76.0,82.0,83.0,85.0,88.0,89.0,90.0,92.0,93.0,95.0,96.0,98.0,99.0,100.0,103.0,104.0,105.0,106.0,107.0,108.0,113.0,115.0,118.0,125.0,128.0,130.0,131.0,136.0,137.0,140.0,141.0,145.0,146.0,147.0,149.0,150.0,156.0,158.0,162.0,166.0,170.0,186.0,188.0,198.0,199.0,201.0,204.0,206.0,219.0,223.0,224.0,225.0,226.0,229.0,231.0,233.0,234.0,235.0,240.0,246.0,250.0,251.0,253.0,254.0,256.0,261.0,264.0,275.0,277.0,278.0,290.0,292.0,300.0,303.0,304.0,305.0,308.0,326.0,331.0,332.0,342.0,343.0,344.0,362.0,365.0,374.0,396.0,398.0,400.0,407.0,409.0,410.0,413.0,414.0,419.0,428.0,434.0,446.0,450.0,455.0,496.0,500.0,507.0,515.0,535.0,539.0,557.0,560.0,562.0,563.0,565.0,571.0,573.0,574.0,576.0,582.0,585.0,586.0,588.0,589.0,595.0,599.0,602.0})\n",
      "    If (feature 1 in {2.0,4.0,8.0,10.0,11.0,31.0,33.0,34.0,35.0,36.0,37.0,39.0,42.0,43.0,45.0,51.0,55.0,57.0,59.0,60.0,70.0,82.0,86.0})\n",
      "     If (feature 6 in {1.0,5.0,6.0,7.0,8.0,9.0,10.0,11.0,12.0,13.0,14.0,15.0,16.0,19.0,20.0,21.0,22.0,25.0,27.0,28.0,29.0,34.0,36.0,37.0,38.0,39.0})\n",
      "      If (feature 1 in {2.0,4.0,33.0,57.0,59.0,70.0})\n",
      "       Predict: 3004.830960608155\n",
      "      Else (feature 1 not in {2.0,4.0,33.0,57.0,59.0,70.0})\n",
      "       Predict: 4393.942888060599\n",
      "     Else (feature 6 not in {1.0,5.0,6.0,7.0,8.0,9.0,10.0,11.0,12.0,13.0,14.0,15.0,16.0,19.0,20.0,21.0,22.0,25.0,27.0,28.0,29.0,34.0,36.0,37.0,38.0,39.0})\n",
      "      If (feature 2 in {1.0,2.0,4.0,14.0,20.0,22.0,23.0,31.0,32.0,36.0,40.0,42.0,49.0,56.0,64.0,68.0,85.0,95.0,100.0,105.0,107.0,118.0,128.0,130.0,131.0,136.0,140.0,141.0,145.0,147.0,156.0,158.0,166.0,186.0,188.0,199.0,219.0,229.0,234.0,246.0,250.0,256.0,261.0,277.0,278.0,290.0,292.0,300.0,303.0,342.0,365.0,409.0,419.0,434.0,446.0,563.0})\n",
      "       Predict: 4362.4855233853\n",
      "      Else (feature 2 not in {1.0,2.0,4.0,14.0,20.0,22.0,23.0,31.0,32.0,36.0,40.0,42.0,49.0,56.0,64.0,68.0,85.0,95.0,100.0,105.0,107.0,118.0,128.0,130.0,131.0,136.0,140.0,141.0,145.0,147.0,156.0,158.0,166.0,186.0,188.0,199.0,219.0,229.0,234.0,246.0,250.0,256.0,261.0,277.0,278.0,290.0,292.0,300.0,303.0,342.0,365.0,409.0,419.0,434.0,446.0,563.0})\n",
      "       Predict: 6218.572796464522\n",
      "    Else (feature 1 not in {2.0,4.0,8.0,10.0,11.0,31.0,33.0,34.0,35.0,36.0,37.0,39.0,42.0,43.0,45.0,51.0,55.0,57.0,59.0,60.0,70.0,82.0,86.0})\n",
      "     If (feature 2 in {1.0,2.0,14.0,20.0,22.0,23.0,27.0,31.0,32.0,36.0,40.0,42.0,44.0,46.0,56.0,59.0,60.0,62.0,64.0,68.0,76.0,83.0,92.0,96.0,100.0,103.0,104.0,105.0,107.0,108.0,113.0,115.0,118.0,125.0,128.0,130.0,140.0,141.0,145.0,147.0,158.0,162.0,166.0,186.0,188.0,201.0,204.0,206.0,219.0,223.0,225.0,229.0,231.0,234.0,246.0,250.0,251.0,254.0,264.0,275.0,277.0,278.0,290.0,300.0,303.0,304.0,326.0,374.0,396.0,535.0,539.0,565.0,574.0,589.0})\n",
      "      If (feature 1 in {14.0,15.0,17.0,38.0,40.0,41.0,44.0,47.0,48.0,49.0,50.0,52.0,53.0,54.0,56.0,63.0,64.0,66.0})\n",
      "       Predict: 6124.437334898738\n",
      "      Else (feature 1 not in {14.0,15.0,17.0,38.0,40.0,41.0,44.0,47.0,48.0,49.0,50.0,52.0,53.0,54.0,56.0,63.0,64.0,66.0})\n",
      "       Predict: 8622.722070844688\n",
      "     Else (feature 2 not in {1.0,2.0,14.0,20.0,22.0,23.0,27.0,31.0,32.0,36.0,40.0,42.0,44.0,46.0,56.0,59.0,60.0,62.0,64.0,68.0,76.0,83.0,92.0,96.0,100.0,103.0,104.0,105.0,107.0,108.0,113.0,115.0,118.0,125.0,128.0,130.0,140.0,141.0,145.0,147.0,158.0,162.0,166.0,186.0,188.0,201.0,204.0,206.0,219.0,223.0,225.0,229.0,231.0,234.0,246.0,250.0,251.0,254.0,264.0,275.0,277.0,278.0,290.0,300.0,303.0,304.0,326.0,374.0,396.0,535.0,539.0,565.0,574.0,589.0})\n",
      "      If (feature 1 in {14.0,15.0,38.0,40.0,41.0,44.0,47.0,48.0,49.0,50.0,52.0,53.0,54.0,56.0,58.0,61.0,62.0,63.0,64.0,68.0,78.0,88.0})\n",
      "       Predict: 7918.8402394106815\n",
      "      Else (feature 1 not in {14.0,15.0,38.0,40.0,41.0,44.0,47.0,48.0,49.0,50.0,52.0,53.0,54.0,56.0,58.0,61.0,62.0,63.0,64.0,68.0,78.0,88.0})\n",
      "       Predict: 10261.897417503587\n",
      "   Else (feature 2 not in {0.0,1.0,2.0,4.0,7.0,14.0,15.0,17.0,20.0,21.0,22.0,23.0,26.0,27.0,29.0,31.0,32.0,36.0,40.0,42.0,44.0,46.0,48.0,49.0,56.0,58.0,59.0,60.0,61.0,62.0,64.0,66.0,68.0,69.0,71.0,76.0,82.0,83.0,85.0,88.0,89.0,90.0,92.0,93.0,95.0,96.0,98.0,99.0,100.0,103.0,104.0,105.0,106.0,107.0,108.0,113.0,115.0,118.0,125.0,128.0,130.0,131.0,136.0,137.0,140.0,141.0,145.0,146.0,147.0,149.0,150.0,156.0,158.0,162.0,166.0,170.0,186.0,188.0,198.0,199.0,201.0,204.0,206.0,219.0,223.0,224.0,225.0,226.0,229.0,231.0,233.0,234.0,235.0,240.0,246.0,250.0,251.0,253.0,254.0,256.0,261.0,264.0,275.0,277.0,278.0,290.0,292.0,300.0,303.0,304.0,305.0,308.0,326.0,331.0,332.0,342.0,343.0,344.0,362.0,365.0,374.0,396.0,398.0,400.0,407.0,409.0,410.0,413.0,414.0,419.0,428.0,434.0,446.0,450.0,455.0,496.0,500.0,507.0,515.0,535.0,539.0,557.0,560.0,562.0,563.0,565.0,571.0,573.0,574.0,576.0,582.0,585.0,586.0,588.0,589.0,595.0,599.0,602.0})\n",
      "    If (feature 1 in {2.0,4.0,8.0,31.0,33.0,34.0,35.0,36.0,37.0,38.0,39.0,40.0,41.0,42.0,43.0,44.0,46.0,49.0,56.0,60.0,63.0})\n",
      "     If (feature 2 in {3.0,5.0,6.0,8.0,10.0,11.0,12.0,16.0,18.0,19.0,24.0,28.0,30.0,43.0,47.0,50.0,55.0,57.0,63.0,65.0,67.0,70.0,72.0,77.0,91.0,101.0,109.0,116.0,120.0,121.0,124.0,144.0,152.0,153.0,159.0,167.0,172.0,173.0,175.0,179.0,182.0,184.0,194.0,200.0,202.0,207.0,220.0,221.0,222.0,232.0,262.0,285.0,320.0,335.0,347.0})\n",
      "      If (feature 6 in {1.0,5.0,6.0,7.0,8.0,9.0,10.0,11.0,12.0,13.0,14.0,15.0,16.0,17.0,19.0,21.0,23.0,25.0,26.0,27.0,31.0,32.0,33.0,34.0,36.0,37.0,38.0})\n",
      "       Predict: 4781.501763668431\n",
      "      Else (feature 6 not in {1.0,5.0,6.0,7.0,8.0,9.0,10.0,11.0,12.0,13.0,14.0,15.0,16.0,17.0,19.0,21.0,23.0,25.0,26.0,27.0,31.0,32.0,33.0,34.0,36.0,37.0,38.0})\n",
      "       Predict: 6674.512121212121\n",
      "     Else (feature 2 not in {3.0,5.0,6.0,8.0,10.0,11.0,12.0,16.0,18.0,19.0,24.0,28.0,30.0,43.0,47.0,50.0,55.0,57.0,63.0,65.0,67.0,70.0,72.0,77.0,91.0,101.0,109.0,116.0,120.0,121.0,124.0,144.0,152.0,153.0,159.0,167.0,172.0,173.0,175.0,179.0,182.0,184.0,194.0,200.0,202.0,207.0,220.0,221.0,222.0,232.0,262.0,285.0,320.0,335.0,347.0})\n",
      "      If (feature 2 in {9.0,13.0,25.0,34.0,35.0,39.0,41.0,45.0,53.0,75.0,79.0,80.0,81.0,84.0,110.0,114.0,126.0,127.0,129.0,133.0,143.0,154.0,160.0,168.0,176.0,177.0,181.0,190.0,191.0,195.0,203.0,205.0,209.0,213.0,248.0,252.0,268.0,270.0,273.0,281.0,282.0,284.0,312.0,319.0,327.0,328.0,345.0,379.0,508.0})\n",
      "       Predict: 8377.115632843314\n",
      "      Else (feature 2 not in {9.0,13.0,25.0,34.0,35.0,39.0,41.0,45.0,53.0,75.0,79.0,80.0,81.0,84.0,110.0,114.0,126.0,127.0,129.0,133.0,143.0,154.0,160.0,168.0,176.0,177.0,181.0,190.0,191.0,195.0,203.0,205.0,209.0,213.0,248.0,252.0,268.0,270.0,273.0,281.0,282.0,284.0,312.0,319.0,327.0,328.0,345.0,379.0,508.0})\n",
      "       Predict: 10755.788189360665\n",
      "    Else (feature 1 not in {2.0,4.0,8.0,31.0,33.0,34.0,35.0,36.0,37.0,38.0,39.0,40.0,41.0,42.0,43.0,44.0,46.0,49.0,56.0,60.0,63.0})\n"
     ]
    },
    {
     "name": "stdout",
     "output_type": "stream",
     "text": [
      "     If (feature 2 in {3.0,5.0,6.0,8.0,10.0,11.0,12.0,19.0,24.0,28.0,41.0,43.0,47.0,55.0,57.0,63.0,70.0,77.0,80.0,81.0,84.0,91.0,109.0,114.0,116.0,121.0,134.0,135.0,139.0,142.0,151.0,157.0,163.0,167.0,171.0,172.0,175.0,176.0,181.0,182.0,184.0,185.0,190.0,191.0,200.0,202.0,209.0,214.0,222.0,237.0,239.0,242.0,258.0,263.0,268.0,272.0,280.0,284.0,289.0,294.0,306.0,313.0,319.0,324.0,341.0,353.0,358.0,452.0,468.0,506.0,577.0})\n",
      "      If (feature 1 in {10.0,11.0,48.0,51.0,55.0})\n",
      "       Predict: 8016.618432239415\n",
      "      Else (feature 1 not in {10.0,11.0,48.0,51.0,55.0})\n",
      "       Predict: 10830.611919989115\n",
      "     Else (feature 2 not in {3.0,5.0,6.0,8.0,10.0,11.0,12.0,19.0,24.0,28.0,41.0,43.0,47.0,55.0,57.0,63.0,70.0,77.0,80.0,81.0,84.0,91.0,109.0,114.0,116.0,121.0,134.0,135.0,139.0,142.0,151.0,157.0,163.0,167.0,171.0,172.0,175.0,176.0,181.0,182.0,184.0,185.0,190.0,191.0,200.0,202.0,209.0,214.0,222.0,237.0,239.0,242.0,258.0,263.0,268.0,272.0,280.0,284.0,289.0,294.0,306.0,313.0,319.0,324.0,341.0,353.0,358.0,452.0,468.0,506.0,577.0})\n",
      "      If (feature 1 in {10.0,11.0,27.0,45.0,51.0,54.0,61.0})\n",
      "       Predict: 10930.569314079423\n",
      "      Else (feature 1 not in {10.0,11.0,27.0,45.0,51.0,54.0,61.0})\n",
      "       Predict: 12273.04004054739\n",
      "\n"
     ]
    },
    {
     "data": {
      "text/plain": [
       "treeModel: org.apache.spark.ml.regression.DecisionTreeRegressionModel = DecisionTreeRegressionModel: uid=dtr_b0a23103d84b, depth=5, numNodes=63, numFeatures=7\n"
      ]
     },
     "execution_count": 148,
     "metadata": {},
     "output_type": "execute_result"
    }
   ],
   "source": [
    "val treeModel = model.asInstanceOf[DecisionTreeRegressionModel]\n",
    "println(s\"Learned classification tree model :\\n ${treeModel.toDebugString}\")"
   ]
  },
  {
   "cell_type": "markdown",
   "metadata": {},
   "source": [
    "## Model evaluation on Test Data "
   ]
  },
  {
   "cell_type": "code",
   "execution_count": 150,
   "metadata": {},
   "outputs": [
    {
     "name": "stdout",
     "output_type": "stream",
     "text": [
      "Root Mean Squared Error (MSE) on test data = 1984.7886254687126\n",
      "Root Mean Squared Error (MAE) on test data = 1387.3779224349873\n"
     ]
    },
    {
     "data": {
      "text/plain": [
       "evaluator: org.apache.spark.ml.evaluation.RegressionEvaluator = RegressionEvaluator: uid=regEval_ab624d830fe7, metricName=mae, throughOrigin=false\n",
       "mse: Double = 1984.7886254687126\n",
       "mae: Double = 1387.3779224349873\n"
      ]
     },
     "execution_count": 150,
     "metadata": {},
     "output_type": "execute_result"
    }
   ],
   "source": [
    "// ####### make predictions\n",
    "\n",
    "val predictions = model.transform(testData)\n",
    "\n",
    "// ####### Select (prediction, true label) and compute error\n",
    "\n",
    "val evaluator = new RegressionEvaluator()\n",
    ".setLabelCol(\"label\")\n",
    ".setPredictionCol(\"prediction\")\n",
    "\n",
    "// ####### get RMSE\n",
    "evaluator.setMetricName(\"rmse\")\n",
    "val mse = evaluator.evaluate(predictions)\n",
    "println(s\"Root Mean Squared Error (MSE) on test data = $mse\")\n",
    "\n",
    "// ####### get RMSE\n",
    "evaluator.setMetricName(\"mae\")\n",
    "val mae = evaluator.evaluate(predictions)\n",
    "println(s\"Root Mean Squared Error (MAE) on test data = $mae\")"
   ]
  },
  {
   "cell_type": "markdown",
   "metadata": {},
   "source": [
    "# Features importance"
   ]
  },
  {
   "cell_type": "code",
   "execution_count": 153,
   "metadata": {},
   "outputs": [
    {
     "name": "stdout",
     "output_type": "stream",
     "text": [
      "(yearOfRegistration,0.686443082572499)\n",
      "(powerPS,0.27985940288872335)\n",
      "(brand,0.018680900227790103)\n",
      "(vehicleType,0.0150166143109876)\n",
      "(kilometer,0.0)\n",
      "(monthOfRegistration,0.0)\n",
      "(fuelType,0.0)\n"
     ]
    },
    {
     "data": {
      "text/plain": [
       "featureImportances: org.apache.spark.ml.linalg.Vector = (7,[0,1,2,6],[0.0150166143109876,0.686443082572499,0.27985940288872335,0.018680900227790103])\n"
      ]
     },
     "execution_count": 153,
     "metadata": {},
     "output_type": "execute_result"
    }
   ],
   "source": [
    "val featureImportances = model.featureImportances\n",
    "val res = attributes.zip(featureImportances.toArray).sortBy(-_._2).foreach(println)"
   ]
  }
 ],
 "metadata": {
  "kernelspec": {
   "display_name": "spylon-kernel",
   "language": "scala",
   "name": "spylon-kernel"
  },
  "language_info": {
   "codemirror_mode": "text/x-scala",
   "file_extension": ".scala",
   "help_links": [
    {
     "text": "MetaKernel Magics",
     "url": "https://metakernel.readthedocs.io/en/latest/source/README.html"
    }
   ],
   "mimetype": "text/x-scala",
   "name": "scala",
   "pygments_lexer": "scala",
   "version": "0.4.1"
  }
 },
 "nbformat": 4,
 "nbformat_minor": 2
}
