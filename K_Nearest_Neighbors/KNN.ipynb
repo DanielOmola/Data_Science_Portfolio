{
 "cells": [
  {
   "cell_type": "markdown",
   "metadata": {
    "id": "tCmeaYdPxDKi"
   },
   "source": [
    "# 0 - Modules"
   ]
  },
  {
   "cell_type": "code",
   "execution_count": 1,
   "metadata": {
    "id": "8sBe1x1Llf7M"
   },
   "outputs": [],
   "source": [
    "# ##################################\n",
    "#\n",
    "#  much of the cod is stored in \n",
    "#  my package for more readability\n",
    "#\n",
    "# ################################## \n",
    "from mypackage import classifier\n",
    "\n",
    "import numpy as np\n",
    "import sklearn\n",
    "from sklearn import datasets\n",
    "from sklearn.model_selection import train_test_split\n"
   ]
  },
  {
   "cell_type": "markdown",
   "metadata": {
    "id": "oiac_l96lkZp"
   },
   "source": [
    "# 1 - Load Data"
   ]
  },
  {
   "cell_type": "code",
   "execution_count": 2,
   "metadata": {
    "id": "VDrhlln8liIh"
   },
   "outputs": [],
   "source": [
    "# ########################### \n",
    "#\n",
    "#   get iris data\n",
    "#\n",
    "# ###########################\n",
    "\n",
    "data = datasets.load_iris()\n",
    "X = data.data\n",
    "y = data.target\n",
    "\n",
    "X_train, X_test,y_train, y_test = train_test_split(X,y,test_size = 0.2,random_state = 1234,stratify=y, shuffle=True)"
   ]
  },
  {
   "cell_type": "markdown",
   "metadata": {
    "id": "KRy_zrJIloQa"
   },
   "source": [
    "# 2 - KNN Classifier from scratch"
   ]
  },
  {
   "cell_type": "code",
   "execution_count": 5,
   "metadata": {
    "colab": {
     "base_uri": "https://localhost:8080/"
    },
    "id": "DsVw-K4SrESg",
    "outputId": "184219c0-17e9-405b-ddfc-26c328bb6a73"
   },
   "outputs": [
    {
     "name": "stdout",
     "output_type": "stream",
     "text": [
      " ########## Optimal K ##########\n",
      "\t\t2\n",
      " ########## Accuracy KNN from scratch ##########\n",
      "\t\t    90.00 %\n"
     ]
    }
   ],
   "source": [
    "# ################################################### \n",
    "#\n",
    "#   tweak optimal_k in classifier.KNN(k=optimal_k)\n",
    "#   to see how the model performs\n",
    "#\n",
    "# ################################################### \n",
    "optimal_k = classifier.optimal_k(X_train,y_train)\n",
    "print(f' ########## Optimal K ##########\\n\\t\\t{optimal_k}')\n",
    "\n",
    "#optimal_k = 5 is better than 2\n",
    "clf =  classifier.KNN(k=optimal_k)\n",
    "\n",
    "clf.fit(X_train,y_train)\n",
    "predictions = clf.predict(X_test)\n",
    "print(f' ########## Accuracy KNN from scratch ##########\\n\\t\\t{classifier.accuracy(X_test,y_test,clf):9.2f} %')\n"
   ]
  },
  {
   "cell_type": "markdown",
   "metadata": {},
   "source": [
    "# 3 - KNN Sklearn implementation"
   ]
  },
  {
   "cell_type": "code",
   "execution_count": 7,
   "metadata": {},
   "outputs": [
    {
     "name": "stdout",
     "output_type": "stream",
     "text": [
      " ########## Accuracy KNN Sklearn ##########\n",
      "\t\t    93.33 %\n"
     ]
    }
   ],
   "source": [
    "# ################################################### \n",
    "#\n",
    "#   train sklearn KNN implementation\n",
    "#   with optimal_k of my implementation\n",
    "#\n",
    "# ###################################################\n",
    "\n",
    "from sklearn.neighbors import KNeighborsClassifier\n",
    "\n",
    "knn = KNeighborsClassifier(n_neighbors=optimal_k)\n",
    "knn.fit(X_train,y_train)\n",
    "print(f' ########## Accuracy KNN Sklearn ##########\\n\\t\\t{classifier.accuracy(X_test,y_test,knn):9.2f} %')"
   ]
  },
  {
   "cell_type": "code",
   "execution_count": null,
   "metadata": {},
   "outputs": [],
   "source": []
  }
 ],
 "metadata": {
  "colab": {
   "collapsed_sections": [
    "kx-Fk4Row_EG",
    "q6H0vCN_xufZ",
    "NoC0B9jYwrGo",
    "oiac_l96lkZp"
   ],
   "name": "KNN.ipynb",
   "provenance": []
  },
  "kernelspec": {
   "display_name": "Python 3",
   "language": "python",
   "name": "python3"
  },
  "language_info": {
   "codemirror_mode": {
    "name": "ipython",
    "version": 3
   },
   "file_extension": ".py",
   "mimetype": "text/x-python",
   "name": "python",
   "nbconvert_exporter": "python",
   "pygments_lexer": "ipython3",
   "version": "3.8.5"
  }
 },
 "nbformat": 4,
 "nbformat_minor": 1
}
