{
 "cells": [
  {
   "cell_type": "code",
   "execution_count": null,
   "metadata": {},
   "outputs": [],
   "source": [
    "// https://spark.apache.org/docs/latest/ml-features"
   ]
  },
  {
   "cell_type": "code",
   "execution_count": 2,
   "metadata": {
    "scrolled": false
   },
   "outputs": [
    {
     "name": "stdout",
     "output_type": "stream",
     "text": [
      "--2020-01-28 12:34:35--  http://webia.lip6.fr/~baazizi/tc/fc/psl/20/data/DTClass.zip\n",
      "\n",
      "\n",
      "Resolving webia.lip6.fr (webia.lip6.fr)... 132.227.201.33\n",
      "\n",
      "\n",
      "Connecting to webia.lip6.fr (webia.lip6.fr)|132.227.201.33|:80... connected.\n",
      "\n",
      "\n",
      "HTTP request sent, awaiting response... 200 OK\n",
      "\n",
      "\n",
      "Length: 9222334 (8,8M) [application/zip]\n",
      "\n",
      "\n",
      "Saving to: ‘DTClass.zip.1’\n",
      "\n",
      "\n",
      "\n",
      "\n",
      "\n",
      "\n",
      "\n",
      "DTClass.zip.1         0%[                    ]       0  --.-KB/s               \n",
      "\n",
      "DTClass.zip.1         1%[                    ]  99,73K   494KB/s               \n",
      "\n",
      "DTClass.zip.1         2%[                    ] 229,20K   557KB/s               \n",
      "\n",
      "DTClass.zip.1         3%[                    ] 317,52K   513KB/s               \n",
      "\n",
      "DTClass.zip.1         4%[                    ] 387,28K   317KB/s               \n",
      "\n",
      "DTClass.zip.1         5%[>                   ] 507,86K   327KB/s               \n",
      "\n",
      "DTClass.zip.1         6%[>                   ] 624,75K   355KB/s               \n",
      "\n",
      "DTClass.zip.1         7%[>                   ] 672,81K   342KB/s               \n",
      "\n",
      "DTClass.zip.1         8%[>                   ] 749,56K   346KB/s               \n",
      "\n",
      "DTClass.zip.1         9%[>                   ] 810,86K   342KB/s               \n",
      "\n",
      "DTClass.zip.1         9%[>                   ] 870,61K   337KB/s               \n",
      "\n",
      "DTClass.zip.1        10%[=>                  ] 957,63K   344KB/s               \n",
      "\n",
      "DTClass.zip.1        11%[=>                  ]   1008K   338KB/s               \n",
      "\n",
      "DTClass.zip.1        11%[=>                  ]   1,05M   339KB/s    eta 23s    \n",
      "\n",
      "DTClass.zip.1        12%[=>                  ]   1,12M   320KB/s    eta 23s    \n",
      "\n",
      "DTClass.zip.1        13%[=>                  ]   1,19M   319KB/s    eta 23s    \n",
      "\n",
      "DTClass.zip.1        13%[=>                  ]   1,19M   290KB/s    eta 27s    \n",
      "\n",
      "DTClass.zip.1        14%[=>                  ]   1,25M   285KB/s    eta 27s    \n",
      "\n",
      "DTClass.zip.1        14%[=>                  ]   1,29M   245KB/s    eta 27s    \n",
      "\n",
      "DTClass.zip.1        15%[==>                 ]   1,36M   238KB/s    eta 27s    \n",
      "\n",
      "DTClass.zip.1        16%[==>                 ]   1,42M   260KB/s    eta 28s    \n",
      "\n",
      "DTClass.zip.1        16%[==>                 ]   1,48M   254KB/s    eta 28s    \n",
      "\n",
      "DTClass.zip.1        18%[==>                 ]   1,63M   265KB/s    eta 28s    \n",
      "\n",
      "DTClass.zip.1        19%[==>                 ]   1,73M   276KB/s    eta 28s    \n",
      "\n",
      "DTClass.zip.1        20%[===>                ]   1,83M   284KB/s    eta 28s    \n",
      "\n",
      "DTClass.zip.1        21%[===>                ]   1,92M   290KB/s    eta 23s    \n",
      "\n",
      "DTClass.zip.1        22%[===>                ]   2,00M   290KB/s    eta 23s    \n",
      "\n",
      "DTClass.zip.1        23%[===>                ]   2,04M   283KB/s    eta 23s    \n",
      "\n",
      "DTClass.zip.1        23%[===>                ]   2,08M   265KB/s    eta 23s    \n",
      "\n",
      "DTClass.zip.1        25%[====>               ]   2,21M   264KB/s    eta 23s    \n",
      "\n",
      "DTClass.zip.1        26%[====>               ]   2,32M   289KB/s    eta 23s    \n",
      "\n",
      "DTClass.zip.1        27%[====>               ]   2,45M   306KB/s    eta 23s    \n",
      "\n",
      "DTClass.zip.1        29%[====>               ]   2,59M   359KB/s    eta 23s    \n",
      "\n",
      "DTClass.zip.1        30%[=====>              ]   2,68M   342KB/s    eta 20s    \n",
      "\n",
      "DTClass.zip.1        32%[=====>              ]   2,87M   354KB/s    eta 20s    \n",
      "\n",
      "DTClass.zip.1        33%[=====>              ]   2,98M   363KB/s    eta 20s    \n",
      "\n",
      "DTClass.zip.1        34%[=====>              ]   3,00M   339KB/s    eta 19s    \n",
      "\n",
      "DTClass.zip.1        36%[======>             ]   3,17M   307KB/s    eta 19s    \n",
      "\n",
      "DTClass.zip.1        36%[======>             ]   3,18M   280KB/s    eta 20s    \n",
      "\n",
      "DTClass.zip.1        36%[======>             ]   3,21M   271KB/s    eta 20s    \n",
      "\n",
      "DTClass.zip.1        37%[======>             ]   3,29M   267KB/s    eta 20s    \n",
      "\n",
      "DTClass.zip.1        38%[======>             ]   3,37M   266KB/s    eta 20s    \n",
      "\n",
      "DTClass.zip.1        39%[======>             ]   3,47M   265KB/s    eta 20s    \n",
      "\n",
      "DTClass.zip.1        40%[=======>            ]   3,52M   252KB/s    eta 19s    \n",
      "\n",
      "DTClass.zip.1        41%[=======>            ]   3,67M   254KB/s    eta 19s    \n",
      "\n",
      "DTClass.zip.1        43%[=======>            ]   3,79M   253KB/s    eta 18s    \n",
      "\n",
      "DTClass.zip.1        44%[=======>            ]   3,93M   241KB/s    eta 18s    \n",
      "\n",
      "DTClass.zip.1        44%[=======>            ]   3,95M   226KB/s    eta 19s    \n",
      "\n",
      "DTClass.zip.1        45%[========>           ]   4,02M   220KB/s    eta 19s    \n",
      "\n",
      "DTClass.zip.1        47%[========>           ]   4,13M   221KB/s    eta 19s    \n",
      "\n",
      "DTClass.zip.1        48%[========>           ]   4,23M   224KB/s    eta 19s    \n",
      "\n",
      "DTClass.zip.1        49%[========>           ]   4,37M   241KB/s    eta 19s    \n",
      "\n",
      "DTClass.zip.1        50%[=========>          ]   4,47M   242KB/s    eta 16s    \n",
      "\n",
      "DTClass.zip.1        51%[=========>          ]   4,51M   243KB/s    eta 16s    \n",
      "\n",
      "DTClass.zip.1        53%[=========>          ]   4,69M   253KB/s    eta 15s    \n",
      "\n",
      "DTClass.zip.1        55%[==========>         ]   4,86M   291KB/s    eta 15s    \n",
      "\n",
      "DTClass.zip.1        56%[==========>         ]   4,97M   303KB/s    eta 15s    \n",
      "\n",
      "DTClass.zip.1        57%[==========>         ]   5,08M   312KB/s    eta 15s    \n",
      "\n",
      "DTClass.zip.1        58%[==========>         ]   5,15M   307KB/s    eta 15s    \n",
      "\n",
      "DTClass.zip.1        58%[==========>         ]   5,19M   299KB/s    eta 13s    \n",
      "\n",
      "DTClass.zip.1        59%[==========>         ]   5,26M   317KB/s    eta 13s    \n",
      "\n",
      "DTClass.zip.1        60%[===========>        ]   5,33M   325KB/s    eta 13s    \n",
      "\n",
      "DTClass.zip.1        61%[===========>        ]   5,42M   344KB/s    eta 13s    \n",
      "\n",
      "DTClass.zip.1        62%[===========>        ]   5,51M   376KB/s    eta 13s    \n",
      "\n",
      "DTClass.zip.1        63%[===========>        ]   5,56M   399KB/s    eta 11s    \n",
      "\n",
      "DTClass.zip.1        64%[===========>        ]   5,63M   386KB/s    eta 11s    \n",
      "\n",
      "DTClass.zip.1        64%[===========>        ]   5,68M   377KB/s    eta 11s    \n",
      "\n",
      "DTClass.zip.1        65%[============>       ]   5,73M   364KB/s    eta 11s    \n",
      "\n",
      "DTClass.zip.1        66%[============>       ]   5,82M   337KB/s    eta 11s    \n",
      "\n",
      "DTClass.zip.1        67%[============>       ]   5,96M   375KB/s    eta 10s    \n",
      "\n",
      "DTClass.zip.1        68%[============>       ]   5,98M   349KB/s    eta 10s    \n",
      "\n",
      "DTClass.zip.1        69%[============>       ]   6,08M   343KB/s    eta 10s    \n",
      "\n",
      "DTClass.zip.1        69%[============>       ]   6,15M   338KB/s    eta 10s    \n",
      "\n",
      "DTClass.zip.1        70%[=============>      ]   6,23M   320KB/s    eta 9s     \n",
      "\n",
      "DTClass.zip.1        72%[=============>      ]   6,36M   346KB/s    eta 9s     \n",
      "\n",
      "DTClass.zip.1        72%[=============>      ]   6,40M   334KB/s    eta 9s     \n",
      "\n",
      "DTClass.zip.1        73%[=============>      ]   6,45M   331KB/s    eta 9s     \n",
      "\n",
      "DTClass.zip.1        74%[=============>      ]   6,57M   345KB/s    eta 9s     \n",
      "\n",
      "DTClass.zip.1        76%[==============>     ]   6,70M   361KB/s    eta 7s     \n",
      "\n",
      "DTClass.zip.1        77%[==============>     ]   6,82M   373KB/s    eta 7s     \n",
      "\n",
      "DTClass.zip.1        78%[==============>     ]   6,91M   382KB/s    eta 7s     \n",
      "\n",
      "DTClass.zip.1        79%[==============>     ]   7,01M   401KB/s    eta 7s     \n",
      "\n",
      "DTClass.zip.1        81%[===============>    ]   7,12M   415KB/s    eta 7s     \n",
      "\n",
      "DTClass.zip.1        81%[===============>    ]   7,21M   432KB/s    eta 5s     \n",
      "\n",
      "DTClass.zip.1        82%[===============>    ]   7,26M   400KB/s    eta 5s     \n",
      "\n",
      "DTClass.zip.1        83%[===============>    ]   7,33M   395KB/s    eta 5s     \n",
      "\n",
      "DTClass.zip.1        85%[================>   ]   7,51M   418KB/s    eta 5s     \n",
      "\n",
      "DTClass.zip.1        85%[================>   ]   7,52M   365KB/s    eta 4s     \n",
      "\n",
      "DTClass.zip.1        86%[================>   ]   7,60M   368KB/s    eta 4s     \n",
      "\n",
      "DTClass.zip.1        87%[================>   ]   7,68M   377KB/s    eta 4s     \n",
      "\n",
      "DTClass.zip.1        88%[================>   ]   7,76M   365KB/s    eta 4s     \n",
      "\n",
      "DTClass.zip.1        89%[================>   ]   7,87M   386KB/s    eta 4s     \n",
      "\n",
      "DTClass.zip.1        90%[=================>  ]   7,96M   393KB/s    eta 3s     \n",
      "\n",
      "DTClass.zip.1        91%[=================>  ]   8,05M   387KB/s    eta 3s     \n",
      "\n",
      "DTClass.zip.1        92%[=================>  ]   8,11M   297KB/s    eta 2s     \n",
      "\n",
      "DTClass.zip.1        94%[=================>  ]   8,32M   273KB/s    eta 2s     \n",
      "\n",
      "DTClass.zip.1        94%[=================>  ]   8,32M   251KB/s    eta 2s     \n"
     ]
    },
    {
     "name": "stdout",
     "output_type": "stream",
     "text": [
      "\n",
      "DTClass.zip.1        95%[==================> ]   8,38M   244KB/s    eta 2s     \n",
      "\n",
      "DTClass.zip.1        95%[==================> ]   8,40M   234KB/s    eta 2s     \n",
      "\n",
      "DTClass.zip.1        96%[==================> ]   8,47M   228KB/s    eta 1s     \n",
      "\n",
      "DTClass.zip.1        96%[==================> ]   8,52M   225KB/s    eta 1s     \n",
      "\n",
      "DTClass.zip.1        97%[==================> ]   8,59M   226KB/s    eta 1s     \n",
      "DTClass.zip.1       100%[===================>]   8,79M   234KB/s    in 30s     \n",
      "\n",
      "2020-01-28 12:35:06 (300 KB/s) - ‘DTClass.zip.1’ saved [9222334/9222334]\n",
      "\n",
      "\n"
     ]
    }
   ],
   "source": [
    "!wget \"http://webia.lip6.fr/~baazizi/tc/fc/psl/20/data/RTClass.zip\""
   ]
  },
  {
   "cell_type": "code",
   "execution_count": 1,
   "metadata": {},
   "outputs": [
    {
     "name": "stdout",
     "output_type": "stream",
     "text": [
      "/home/moi/Decision_Tree\n"
     ]
    }
   ],
   "source": [
    "%cd"
   ]
  },
  {
   "cell_type": "code",
   "execution_count": null,
   "metadata": {},
   "outputs": [
    {
     "name": "stdout",
     "output_type": "stream",
     "text": [
      "Archive:  DTClass.zip\n"
     ]
    }
   ],
   "source": [
    "!unzip DTClass.zip"
   ]
  },
  {
   "cell_type": "code",
   "execution_count": 1,
   "metadata": {},
   "outputs": [
    {
     "name": "stdout",
     "output_type": "stream",
     "text": [
      "total 50M\r\n",
      "drwxr-xr-x 2 moi moi 4,0K janv. 20 10:36 \u001b[0m\u001b[01;34m.\u001b[0m\r\n",
      "drwxr-xr-x 4 moi moi 4,0K janv. 28 12:38 \u001b[01;34m..\u001b[0m\r\n",
      "-rw-r--r-- 1 moi moi  410 juil. 24  2019 synthetic.csv\r\n",
      "-rw-r--r-- 1 moi moi  50M janv. 19 21:42 talkingdata.csv\r\n",
      "\n"
     ]
    }
   ],
   "source": [
    "!ls -hal DTClass"
   ]
  },
  {
   "cell_type": "markdown",
   "metadata": {},
   "source": [
    "## Loading data"
   ]
  },
  {
   "cell_type": "code",
   "execution_count": 2,
   "metadata": {},
   "outputs": [],
   "source": [
    "!cd DTClass;"
   ]
  },
  {
   "cell_type": "code",
   "execution_count": 3,
   "metadata": {},
   "outputs": [
    {
     "name": "stdout",
     "output_type": "stream",
     "text": [
      "/home/moi/Decision_Tree\n"
     ]
    }
   ],
   "source": [
    "%cd"
   ]
  },
  {
   "cell_type": "code",
   "execution_count": 1,
   "metadata": {},
   "outputs": [
    {
     "name": "stdout",
     "output_type": "stream",
     "text": [
      "Decision_Tree_Spark_ML.ipynb  \u001b[0m\u001b[01;34mDTClass\u001b[0m  \u001b[01;31mDTClass.zip\u001b[0m  DTClass.zip.1\r\n",
      "\n"
     ]
    }
   ],
   "source": [
    "!ls /home/moi/Decision_Tree"
   ]
  },
  {
   "cell_type": "code",
   "execution_count": null,
   "metadata": {},
   "outputs": [
    {
     "data": {
      "text/plain": [
       "Intitializing Scala interpreter ..."
      ]
     },
     "metadata": {},
     "output_type": "display_data"
    }
   ],
   "source": [
    "val workingDir = \"/home/moi/Decision_Tree/DTClass/\"\n",
    "val data = spark.read.format(\"csv\").option(\"header\",\"true\").load(workingDir+\"synthetic.csv\")\n",
    "data.show()"
   ]
  },
  {
   "cell_type": "markdown",
   "metadata": {},
   "source": [
    "### StringIndexer on age"
   ]
  },
  {
   "cell_type": "code",
   "execution_count": null,
   "metadata": {},
   "outputs": [],
   "source": [
    "import org.apache.spark.ml.feature.StringIndexer\n",
    "\n",
    "val field =\"age\"\n",
    "val ageIndexer = new StringIndexer()\n",
    "    .setInputCol(field)\n",
    "    .setOutputCol(\"indexed_\" + field)\n",
    "\n",
    "val ageIndexed = ageIndexer.fit(data).transform(data)\n",
    "ageIndexed.show()\n",
    "\n"
   ]
  },
  {
   "cell_type": "code",
   "execution_count": null,
   "metadata": {},
   "outputs": [],
   "source": [
    "data.groupBy(\"age\").count().show()"
   ]
  },
  {
   "cell_type": "markdown",
   "metadata": {},
   "source": [
    "### IndexToString on indexed_age"
   ]
  },
  {
   "cell_type": "code",
   "execution_count": null,
   "metadata": {},
   "outputs": [],
   "source": [
    "import org.apache.spark.ml.feature.IndexToString\n",
    "\n",
    "val inputColSchema = ageIndexed.schema(ageIndexer.getOutputCol)\n",
    "val ageConverter = new IndexToString()\n",
    "    .setInputCol(ageIndexer.getOutputCol)\n",
    "    .setOutputCol(\"originalAge\")\n",
    "\n",
    "val ageConverted= ageConverter.transform(ageIndexed)\n",
    "ageConverted.show()"
   ]
  },
  {
   "cell_type": "markdown",
   "metadata": {},
   "source": [
    "### Vector Assembler on indexed_age and indexed_income"
   ]
  },
  {
   "cell_type": "code",
   "execution_count": null,
   "metadata": {},
   "outputs": [],
   "source": [
    "val field = \"income\"\n",
    "val incomeIndexer = new StringIndexer()\n",
    "    .setInputCol(field)\n",
    "    .setOutputCol(\"indexed_\"+field)\n",
    "\n",
    "\n",
    "val incomeIndexed = incomeIndexer.fit(ageIndexed).transform(ageIndexed)\n",
    "incomeIndexed.show()"
   ]
  },
  {
   "cell_type": "code",
   "execution_count": null,
   "metadata": {},
   "outputs": [],
   "source": [
    "import org.apache.spark.ml.feature.VectorAssembler\n",
    "\n",
    "val vecAssembler = new VectorAssembler()\n",
    "                .setInputCols(Array(\"indexed_age\",\"indexed_income\"))\n",
    "                .setOutputCol(\"ageIncomeVec\")\n",
    "val ageIncomeIndexedVec = vecAssembler.transform(incomeIndexed)\n",
    "ageIncomeIndexedVec.show()"
   ]
  },
  {
   "cell_type": "markdown",
   "metadata": {},
   "source": [
    "### Vector Indexer"
   ]
  },
  {
   "cell_type": "code",
   "execution_count": null,
   "metadata": {},
   "outputs": [],
   "source": [
    "import org.apache.spark.ml.feature.VectorIndexer\n",
    "\n",
    "val field = \"ageIncomeVec\"\n",
    "val vecIndexer = new VectorIndexer()\n",
    "    .setInputCol(field)\n",
    "    .setOutputCol(\"ageIncomeVecInd\")\n",
    "    .setMaxCategories(3)\n",
    "\n",
    "val vecIndexerModel = vecIndexer.fit(ageIncomeIndexedVec)\n",
    "val categoricalFeatures : Set[Int] = vecIndexerModel.categoryMaps.keys.to\n",
    "//Set \n",
    "println(s\"Chose ${categoricalFeatures.mkString(\", \")}\")\n",
    "\n",
    "val ageIncomeIndexedVecInd = vecIndexerModel.transform(ageIncomeIndexedVec)\n",
    "ageIncomeIndexedVecInd.select(\"ageIncomeVec\",\"ageIncomeVecInd\").show()"
   ]
  },
  {
   "cell_type": "markdown",
   "metadata": {},
   "source": [
    "### Pipeline"
   ]
  },
  {
   "cell_type": "code",
   "execution_count": null,
   "metadata": {},
   "outputs": [],
   "source": [
    "/* index the label attribute */\n",
    "val labName = \"label\"\n",
    "val stringIndexerLabel= new StringIndexer()\n",
    "    .setInputCol(labName)\n",
    "    .setOutputCol(\"indexed_\" + labName)\n",
    "    "
   ]
  },
  {
   "cell_type": "code",
   "execution_count": null,
   "metadata": {},
   "outputs": [],
   "source": [
    "/* index the features attribute */\n",
    "val stringIndexerAllatts= data.columns.filterNot(_.contains(labName)).map{\n",
    "    field => \n",
    "    new StringIndexer()\n",
    "    .setInputCol(field)\n",
    "    .setOutputCol(\"indexed_\" + field)   \n",
    "} "
   ]
  },
  {
   "cell_type": "code",
   "execution_count": null,
   "metadata": {},
   "outputs": [],
   "source": [
    "/* register the indexed fields */\n",
    "val indexedFields = stringIndexerAllatts.map(_.getOutputCol)"
   ]
  },
  {
   "cell_type": "code",
   "execution_count": null,
   "metadata": {},
   "outputs": [],
   "source": [
    "/* Create a map to register the correspondance between attribute names and their feature indice.*/\n",
    "\n",
    "val featureIndices = stringIndexerAllatts.zipWithIndex.map{\n",
    "    case(strInd, ind)=>(\"feature \" +ind, strInd.getInputCol)\n",
    "}.toMap"
   ]
  },
  {
   "cell_type": "code",
   "execution_count": null,
   "metadata": {},
   "outputs": [],
   "source": [
    "/* create a vector of features from all the indexed attributes except the target column label */\n",
    "\n",
    "val vectorAssembler = new VectorAssembler()\n",
    ".setInputCols(indexedFields.filterNot(_.contains(labName)))\n",
    ".setOutputCol(\"featuresVec\")"
   ]
  },
  {
   "cell_type": "code",
   "execution_count": null,
   "metadata": {},
   "outputs": [],
   "source": [
    "/* index the vector of features to account for categorical features */\n",
    "\n",
    "val maxCat = 3\n",
    "val vectorIndexer = new VectorIndexer()\n",
    ".setInputCol(\"featuresVec\")\n",
    ".setOutputCol(\"features\")\n",
    ".setMaxCategories(maxCat)"
   ]
  },
  {
   "cell_type": "code",
   "execution_count": null,
   "metadata": {},
   "outputs": [],
   "source": [
    "/* chain the transformation in one pipeline */\n",
    "\n",
    "import org.apache.spark.ml.Pipeline\n",
    "val pipeline = new Pipeline()\n",
    ".setStages(Array(stringIndexerLabel) ++stringIndexerAllatts++ Array(vectorAssembler,vectorIndexer))\n",
    "\n",
    "val train_data = pipeline.fit(data).transform(data).select(\"features\",\"indexed_label\")\n",
    "\n",
    "train_data.printSchema\n",
    "train_data.show()"
   ]
  },
  {
   "cell_type": "code",
   "execution_count": null,
   "metadata": {},
   "outputs": [],
   "source": [
    "import org.apache.spark.ml.classification.DecisionTreeClassificationModel\n",
    "import org.apache.spark.ml.classification.DecisionTreeClassifier\n",
    "import org.apache.spark.ml.evaluation.MulticlassClassificationEvaluator\n",
    "\n",
    "val dt = new DecisionTreeClassifier()\n",
    ".setLabelCol\"indexed_label\")\n",
    ".setFeturesCol(\"features\")\n",
    "\n",
    "val dtModel = dt.fit(train_data)\n",
    "print(s\"Learned classification tree model :\\n ${dtModel.toDebugString}\")"
   ]
  }
 ],
 "metadata": {
  "kernelspec": {
   "display_name": "spylon-kernel",
   "language": "scala",
   "name": "spylon-kernel"
  },
  "language_info": {
   "codemirror_mode": "text/x-scala",
   "file_extension": ".scala",
   "help_links": [
    {
     "text": "MetaKernel Magics",
     "url": "https://metakernel.readthedocs.io/en/latest/source/README.html"
    }
   ],
   "mimetype": "text/x-scala",
   "name": "scala",
   "pygments_lexer": "scala",
   "version": "0.4.1"
  }
 },
 "nbformat": 4,
 "nbformat_minor": 2
}
