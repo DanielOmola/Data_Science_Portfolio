{
 "cells": [
  {
   "cell_type": "markdown",
   "metadata": {},
   "source": [
    "# 0 - Modules"
   ]
  },
  {
   "cell_type": "code",
   "execution_count": 1,
   "metadata": {},
   "outputs": [],
   "source": [
    "# ##################################\n",
    "#\n",
    "#  much of the cod is stored in \n",
    "#  my package for more readability\n",
    "#\n",
    "# ################################## \n",
    "from mypackage import ploter as plt\n",
    "from mypackage import classifier as cls\n",
    "\n",
    "\n",
    "import numpy as np\n",
    "import pandas as pd\n",
    "from sklearn.datasets import load_iris\n",
    "from sklearn.model_selection import train_test_split\n",
    "from sklearn.linear_model import LogisticRegression\n"
   ]
  },
  {
   "cell_type": "markdown",
   "metadata": {},
   "source": [
    "# 1 - Import iris data and split (stratify)"
   ]
  },
  {
   "cell_type": "code",
   "execution_count": 2,
   "metadata": {},
   "outputs": [],
   "source": [
    "iris = load_iris()\n",
    "X = iris.data[:, :2]\n",
    "y = (iris.target != 0) * 1"
   ]
  },
  {
   "cell_type": "code",
   "execution_count": 3,
   "metadata": {},
   "outputs": [],
   "source": [
    "X_train, X_test, y_train, y_test = train_test_split( X, y, test_size=0.2, random_state=42,stratify=y, shuffle=True)"
   ]
  },
  {
   "cell_type": "markdown",
   "metadata": {
    "id": "kXyimQE9u7VU"
   },
   "source": [
    "# 2 - Logistic Regression with Numpy and Gradient Descent"
   ]
  },
  {
   "cell_type": "code",
   "execution_count": 4,
   "metadata": {},
   "outputs": [
    {
     "name": "stdout",
     "output_type": "stream",
     "text": [
      "\n",
      "########### LOGISTIC REGRESSION : TRAINING RESULT ###########\n",
      "\n",
      "\t\t\tFinal Loss: 0.034696057450171965 \t\n",
      "\t\t\tFinal Accuracy: 99.16666666666667 \t\n",
      "\n",
      "\t\t\t- Threshold: 0.5\n",
      "\t\t\t- Intercept: -3.0182479732192506\n",
      "\t\t\t- b1: 5.786739924438086\n",
      "\t\t\t- b2: -9.179826858819228\n",
      "Wall time: 1.15 s\n"
     ]
    }
   ],
   "source": [
    "model_numpy = cls.LogisticRegressionNP(lr=0.01, num_iter=100000,verbose=False)\n",
    "%time theta = model_numpy.fit(X_train, y_train)"
   ]
  },
  {
   "cell_type": "code",
   "execution_count": 5,
   "metadata": {},
   "outputs": [],
   "source": [
    "def accuracy(model, X,y):\n",
    "    print(\"\\n########### ACCURACY ON TEST SET ###########\\n\") \n",
    "    preds = model.predict(X)\n",
    "    print('\\t\\t%f'%((preds == y).mean()*100))\n",
    "    "
   ]
  },
  {
   "cell_type": "code",
   "execution_count": 6,
   "metadata": {},
   "outputs": [
    {
     "name": "stdout",
     "output_type": "stream",
     "text": [
      "\n",
      "########### ACCURACY ON TEST SET ###########\n",
      "\n",
      "\t\t100.000000\n"
     ]
    }
   ],
   "source": [
    "accuracy(model_numpy, X_test,y_test)"
   ]
  },
  {
   "cell_type": "markdown",
   "metadata": {
    "id": "IUvs3fTjzoGU"
   },
   "source": [
    "# 3 - Logistic Regression with Tensor Flow"
   ]
  },
  {
   "cell_type": "code",
   "execution_count": 12,
   "metadata": {},
   "outputs": [
    {
     "name": "stdout",
     "output_type": "stream",
     "text": [
      "Epoch 1/100\n",
      "4/4 [==============================] - 0s 0s/step - loss: 0.7048 - acc: 0.3833\n",
      "Epoch 2/100\n",
      "4/4 [==============================] - 0s 994us/step - loss: 0.6165 - acc: 0.7917\n",
      "Epoch 3/100\n",
      "4/4 [==============================] - 0s 817us/step - loss: 0.5653 - acc: 0.7667\n",
      "Epoch 4/100\n",
      "4/4 [==============================] - 0s 630us/step - loss: 0.5457 - acc: 0.6667\n",
      "Epoch 5/100\n",
      "4/4 [==============================] - 0s 750us/step - loss: 0.5420 - acc: 0.6667\n",
      "Epoch 6/100\n",
      "4/4 [==============================] - 0s 999us/step - loss: 0.5417 - acc: 0.6667\n",
      "Epoch 7/100\n",
      "4/4 [==============================] - 0s 500us/step - loss: 0.5417 - acc: 0.6667\n",
      "Epoch 8/100\n",
      "4/4 [==============================] - 0s 799us/step - loss: 0.5377 - acc: 0.6667\n",
      "Epoch 9/100\n",
      "4/4 [==============================] - 0s 807us/step - loss: 0.5338 - acc: 0.6667\n",
      "Epoch 10/100\n",
      "4/4 [==============================] - 0s 750us/step - loss: 0.5256 - acc: 0.6667\n",
      "Epoch 11/100\n",
      "4/4 [==============================] - 0s 750us/step - loss: 0.5207 - acc: 0.6667\n",
      "Epoch 12/100\n",
      "4/4 [==============================] - 0s 750us/step - loss: 0.5185 - acc: 0.6667\n",
      "Epoch 13/100\n",
      "4/4 [==============================] - 0s 750us/step - loss: 0.5143 - acc: 0.6667\n",
      "Epoch 14/100\n",
      "4/4 [==============================] - 0s 750us/step - loss: 0.5108 - acc: 0.6667\n",
      "Epoch 15/100\n",
      "4/4 [==============================] - 0s 1ms/step - loss: 0.5076 - acc: 0.6667\n",
      "Epoch 16/100\n",
      "4/4 [==============================] - 0s 750us/step - loss: 0.5033 - acc: 0.6667\n",
      "Epoch 17/100\n",
      "4/4 [==============================] - 0s 500us/step - loss: 0.5005 - acc: 0.6667\n",
      "Epoch 18/100\n",
      "4/4 [==============================] - 0s 749us/step - loss: 0.4956 - acc: 0.6667\n",
      "Epoch 19/100\n",
      "4/4 [==============================] - 0s 750us/step - loss: 0.4919 - acc: 0.6667\n",
      "Epoch 20/100\n",
      "4/4 [==============================] - 0s 751us/step - loss: 0.4881 - acc: 0.6667\n",
      "Epoch 21/100\n",
      "4/4 [==============================] - 0s 751us/step - loss: 0.4844 - acc: 0.6750\n",
      "Epoch 22/100\n",
      "4/4 [==============================] - 0s 750us/step - loss: 0.4808 - acc: 0.6750\n",
      "Epoch 23/100\n",
      "4/4 [==============================] - 0s 498us/step - loss: 0.4769 - acc: 0.6750\n",
      "Epoch 24/100\n",
      "4/4 [==============================] - 0s 750us/step - loss: 0.4741 - acc: 0.6917\n",
      "Epoch 25/100\n",
      "4/4 [==============================] - 0s 750us/step - loss: 0.4695 - acc: 0.6917\n",
      "Epoch 26/100\n",
      "4/4 [==============================] - 0s 750us/step - loss: 0.4661 - acc: 0.6917\n",
      "Epoch 27/100\n",
      "4/4 [==============================] - 0s 751us/step - loss: 0.4622 - acc: 0.7000\n",
      "Epoch 28/100\n",
      "4/4 [==============================] - 0s 750us/step - loss: 0.4585 - acc: 0.7167\n",
      "Epoch 29/100\n",
      "4/4 [==============================] - 0s 749us/step - loss: 0.4549 - acc: 0.7250\n",
      "Epoch 30/100\n",
      "4/4 [==============================] - 0s 750us/step - loss: 0.4513 - acc: 0.7333\n",
      "Epoch 31/100\n",
      "4/4 [==============================] - 0s 751us/step - loss: 0.4477 - acc: 0.7333\n",
      "Epoch 32/100\n",
      "4/4 [==============================] - 0s 501us/step - loss: 0.4443 - acc: 0.7333\n",
      "Epoch 33/100\n",
      "4/4 [==============================] - 0s 750us/step - loss: 0.4406 - acc: 0.7333\n",
      "Epoch 34/100\n",
      "4/4 [==============================] - 0s 752us/step - loss: 0.4378 - acc: 0.7583\n",
      "Epoch 35/100\n",
      "4/4 [==============================] - 0s 749us/step - loss: 0.4342 - acc: 0.7667\n",
      "Epoch 36/100\n",
      "4/4 [==============================] - 0s 751us/step - loss: 0.4303 - acc: 0.7750\n",
      "Epoch 37/100\n",
      "4/4 [==============================] - 0s 1ms/step - loss: 0.4267 - acc: 0.8000\n",
      "Epoch 38/100\n",
      "4/4 [==============================] - 0s 750us/step - loss: 0.4234 - acc: 0.8250\n",
      "Epoch 39/100\n",
      "4/4 [==============================] - 0s 750us/step - loss: 0.4203 - acc: 0.8333\n",
      "Epoch 40/100\n",
      "4/4 [==============================] - 0s 751us/step - loss: 0.4169 - acc: 0.8583\n",
      "Epoch 41/100\n",
      "4/4 [==============================] - 0s 750us/step - loss: 0.4140 - acc: 0.8667\n",
      "Epoch 42/100\n",
      "4/4 [==============================] - 0s 750us/step - loss: 0.4102 - acc: 0.8667\n",
      "Epoch 43/100\n",
      "4/4 [==============================] - 0s 751us/step - loss: 0.4068 - acc: 0.8417\n",
      "Epoch 44/100\n",
      "4/4 [==============================] - 0s 750us/step - loss: 0.4039 - acc: 0.8417\n",
      "Epoch 45/100\n",
      "4/4 [==============================] - 0s 749us/step - loss: 0.4005 - acc: 0.8417\n",
      "Epoch 46/100\n",
      "4/4 [==============================] - 0s 749us/step - loss: 0.3976 - acc: 0.8667\n",
      "Epoch 47/100\n",
      "4/4 [==============================] - 0s 750us/step - loss: 0.3944 - acc: 0.8833\n",
      "Epoch 48/100\n",
      "4/4 [==============================] - 0s 750us/step - loss: 0.3913 - acc: 0.8917\n",
      "Epoch 49/100\n",
      "4/4 [==============================] - 0s 1ms/step - loss: 0.3883 - acc: 0.8917\n",
      "Epoch 50/100\n",
      "4/4 [==============================] - 0s 750us/step - loss: 0.3851 - acc: 0.8917\n",
      "Epoch 51/100\n",
      "4/4 [==============================] - 0s 749us/step - loss: 0.3822 - acc: 0.9000\n",
      "Epoch 52/100\n",
      "4/4 [==============================] - 0s 1ms/step - loss: 0.3792 - acc: 0.9000\n",
      "Epoch 53/100\n",
      "4/4 [==============================] - 0s 750us/step - loss: 0.3764 - acc: 0.9000\n",
      "Epoch 54/100\n",
      "4/4 [==============================] - 0s 751us/step - loss: 0.3734 - acc: 0.9000\n",
      "Epoch 55/100\n",
      "4/4 [==============================] - 0s 749us/step - loss: 0.3706 - acc: 0.9000\n",
      "Epoch 56/100\n",
      "4/4 [==============================] - 0s 1000us/step - loss: 0.3679 - acc: 0.9000\n",
      "Epoch 57/100\n",
      "4/4 [==============================] - 0s 749us/step - loss: 0.3651 - acc: 0.9000\n",
      "Epoch 58/100\n",
      "4/4 [==============================] - 0s 1ms/step - loss: 0.3623 - acc: 0.9000\n",
      "Epoch 59/100\n",
      "4/4 [==============================] - 0s 750us/step - loss: 0.3596 - acc: 0.9000\n",
      "Epoch 60/100\n",
      "4/4 [==============================] - 0s 1ms/step - loss: 0.3568 - acc: 0.9167\n",
      "Epoch 61/100\n",
      "4/4 [==============================] - 0s 750us/step - loss: 0.3541 - acc: 0.9167\n",
      "Epoch 62/100\n",
      "4/4 [==============================] - 0s 750us/step - loss: 0.3516 - acc: 0.9167\n",
      "Epoch 63/100\n",
      "4/4 [==============================] - 0s 750us/step - loss: 0.3488 - acc: 0.9167\n",
      "Epoch 64/100\n",
      "4/4 [==============================] - 0s 1ms/step - loss: 0.3462 - acc: 0.9167\n",
      "Epoch 65/100\n",
      "4/4 [==============================] - 0s 750us/step - loss: 0.3436 - acc: 0.9167\n",
      "Epoch 66/100\n",
      "4/4 [==============================] - 0s 750us/step - loss: 0.3411 - acc: 0.9250\n",
      "Epoch 67/100\n",
      "4/4 [==============================] - 0s 750us/step - loss: 0.3388 - acc: 0.9250\n",
      "Epoch 68/100\n",
      "4/4 [==============================] - 0s 750us/step - loss: 0.3362 - acc: 0.9250\n",
      "Epoch 69/100\n",
      "4/4 [==============================] - 0s 750us/step - loss: 0.3337 - acc: 0.9333\n",
      "Epoch 70/100\n",
      "4/4 [==============================] - 0s 751us/step - loss: 0.3312 - acc: 0.9500\n",
      "Epoch 71/100\n",
      "4/4 [==============================] - 0s 999us/step - loss: 0.3286 - acc: 0.9500\n",
      "Epoch 72/100\n",
      "4/4 [==============================] - 0s 500us/step - loss: 0.3263 - acc: 0.9500\n",
      "Epoch 73/100\n",
      "4/4 [==============================] - 0s 503us/step - loss: 0.3246 - acc: 0.9500\n",
      "Epoch 74/100\n",
      "4/4 [==============================] - 0s 750us/step - loss: 0.3215 - acc: 0.9500\n",
      "Epoch 75/100\n",
      "4/4 [==============================] - 0s 750us/step - loss: 0.3194 - acc: 0.9500\n",
      "Epoch 76/100\n",
      "4/4 [==============================] - 0s 752us/step - loss: 0.3170 - acc: 0.9500\n",
      "Epoch 77/100\n",
      "4/4 [==============================] - 0s 773us/step - loss: 0.3149 - acc: 0.9500\n",
      "Epoch 78/100\n",
      "4/4 [==============================] - 0s 500us/step - loss: 0.3126 - acc: 0.9500\n",
      "Epoch 79/100\n",
      "4/4 [==============================] - 0s 752us/step - loss: 0.3104 - acc: 0.9500\n",
      "Epoch 80/100\n",
      "4/4 [==============================] - 0s 1ms/step - loss: 0.3081 - acc: 0.9750\n",
      "Epoch 81/100\n",
      "4/4 [==============================] - 0s 750us/step - loss: 0.3067 - acc: 0.9750\n",
      "Epoch 82/100\n",
      "4/4 [==============================] - 0s 750us/step - loss: 0.3041 - acc: 0.9750\n",
      "Epoch 83/100\n",
      "4/4 [==============================] - 0s 1000us/step - loss: 0.3019 - acc: 0.9750\n",
      "Epoch 84/100\n",
      "4/4 [==============================] - 0s 750us/step - loss: 0.2996 - acc: 0.9750\n",
      "Epoch 85/100\n",
      "4/4 [==============================] - 0s 750us/step - loss: 0.2976 - acc: 0.9750\n",
      "Epoch 86/100\n",
      "4/4 [==============================] - 0s 750us/step - loss: 0.2956 - acc: 0.9750\n",
      "Epoch 87/100\n",
      "4/4 [==============================] - 0s 748us/step - loss: 0.2939 - acc: 0.9750\n",
      "Epoch 88/100\n",
      "4/4 [==============================] - 0s 750us/step - loss: 0.2916 - acc: 0.9750\n",
      "Epoch 89/100\n",
      "4/4 [==============================] - 0s 750us/step - loss: 0.2897 - acc: 0.9750\n",
      "Epoch 90/100\n",
      "4/4 [==============================] - 0s 750us/step - loss: 0.2877 - acc: 0.9750\n",
      "Epoch 91/100\n",
      "4/4 [==============================] - 0s 750us/step - loss: 0.2857 - acc: 0.9750\n",
      "Epoch 92/100\n",
      "4/4 [==============================] - 0s 751us/step - loss: 0.2839 - acc: 0.9750\n",
      "Epoch 93/100\n",
      "4/4 [==============================] - 0s 750us/step - loss: 0.2821 - acc: 0.9750\n",
      "Epoch 94/100\n",
      "4/4 [==============================] - 0s 748us/step - loss: 0.2804 - acc: 0.9833\n",
      "Epoch 95/100\n",
      "4/4 [==============================] - 0s 751us/step - loss: 0.2782 - acc: 0.9750\n",
      "Epoch 96/100\n",
      "4/4 [==============================] - 0s 812us/step - loss: 0.2764 - acc: 0.9750\n",
      "Epoch 97/100\n",
      "4/4 [==============================] - 0s 671us/step - loss: 0.2747 - acc: 0.9750\n",
      "Epoch 98/100\n",
      "4/4 [==============================] - 0s 754us/step - loss: 0.2729 - acc: 0.9833\n",
      "Epoch 99/100\n",
      "4/4 [==============================] - 0s 750us/step - loss: 0.2716 - acc: 0.9833\n",
      "Epoch 100/100\n",
      "4/4 [==============================] - 0s 500us/step - loss: 0.2697 - acc: 0.9750\n"
     ]
    }
   ],
   "source": [
    "model_TF = cls.LogisticRegressionTF(lr = 0.01,threshold=0.5,epochs=100,verbose=True)\n",
    "model_TF.fit(X_train, y_train)"
   ]
  },
  {
   "cell_type": "code",
   "execution_count": 13,
   "metadata": {},
   "outputs": [
    {
     "name": "stdout",
     "output_type": "stream",
     "text": [
      "\n",
      "########### ACCURACY ON TEST SET ###########\n",
      "\n",
      "\t\t100.000000\n"
     ]
    }
   ],
   "source": [
    "accuracy(model_TF, X_test,y_test)"
   ]
  },
  {
   "cell_type": "markdown",
   "metadata": {},
   "source": [
    "# 4 - Logistic Regression with Sklearn"
   ]
  },
  {
   "cell_type": "code",
   "execution_count": 14,
   "metadata": {},
   "outputs": [
    {
     "name": "stdout",
     "output_type": "stream",
     "text": [
      "\n",
      "########### ACCURACY ON TEST SET ###########\n",
      "\n",
      "\t\t100.000000\n"
     ]
    }
   ],
   "source": [
    "clf = LogisticRegression(random_state=0).fit(X_train, y_train)\n",
    "accuracy(clf, X_test,y_test)\n"
   ]
  }
 ],
 "metadata": {
  "colab": {
   "collapsed_sections": [
    "zSea9J60Zsov",
    "Rw7Z1SbmgV1F",
    "akORyB20hyYj",
    "frzjcQBNpXjw",
    "-X5vK2QYf_4m",
    "pOZbwnFNij5d",
    "NpJgri32f63U",
    "kXyimQE9u7VU",
    "IUvs3fTjzoGU",
    "Q9NKJFf4Rl7Y",
    "p1bC6tKTHAdM"
   ],
   "name": "Logistic_Regression.ipynb",
   "provenance": []
  },
  "kernelspec": {
   "display_name": "Python 3",
   "language": "python",
   "name": "python3"
  },
  "language_info": {
   "codemirror_mode": {
    "name": "ipython",
    "version": 3
   },
   "file_extension": ".py",
   "mimetype": "text/x-python",
   "name": "python",
   "nbconvert_exporter": "python",
   "pygments_lexer": "ipython3",
   "version": "3.8.8"
  }
 },
 "nbformat": 4,
 "nbformat_minor": 1
}
