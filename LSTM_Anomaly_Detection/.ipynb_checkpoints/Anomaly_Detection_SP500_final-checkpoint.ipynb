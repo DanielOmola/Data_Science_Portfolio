{
 "cells": [
  {
   "cell_type": "markdown",
   "metadata": {
    "id": "vN-NZdQE89JT"
   },
   "source": [
    "# 0.0 - Load Modules, instanciate Random Seed, check Tensor Flow version"
   ]
  },
  {
   "cell_type": "code",
   "execution_count": 1,
   "metadata": {
    "colab": {
     "base_uri": "https://localhost:8080/"
    },
    "id": "tCViIFxycyr-",
    "outputId": "10a99c43-fa4f-4dfd-b9d8-5f1b7655665f"
   },
   "outputs": [
    {
     "name": "stdout",
     "output_type": "stream",
     "text": [
      "WARNING:tensorflow:From C:\\Users\\danie\\GitHub\\Portfolio\\Data_Science_Portfolio\\LSTM_Anomaly_Detection\\mypackage\\LSTM_autoencoder.py:14: The name tf.keras.backend.set_session is deprecated. Please use tf.compat.v1.keras.backend.set_session instead.\n",
      "\n"
     ]
    }
   ],
   "source": [
    "from mypackage import mydataloader as loader\n",
    "from mypackage import stationarity as st\n",
    "from mypackage import create_dataset as cd\n",
    "from mypackage import LSTM_autoencoder as LA\n",
    "from mypackage import ploter as plt\n",
    "\n",
    "import calendar\n",
    "from sklearn.preprocessing import StandardScaler, MinMaxScaler \n",
    "import tensorflow as tf\n",
    "import pandas as pd"
   ]
  },
  {
   "cell_type": "code",
   "execution_count": 2,
   "metadata": {},
   "outputs": [],
   "source": [
    "import warnings\n",
    "warnings.filterwarnings('ignore')"
   ]
  },
  {
   "cell_type": "markdown",
   "metadata": {
    "id": "zGmeAFzED9ZC"
   },
   "source": [
    "# 0.1 - Data"
   ]
  },
  {
   "cell_type": "code",
   "execution_count": 3,
   "metadata": {
    "id": "Ct3--dUCfjVP"
   },
   "outputs": [
    {
     "name": "stdout",
     "output_type": "stream",
     "text": [
      " //////////// Initial Data Shape  ////////////\n",
      "\n",
      "\t (7180, 7)\n",
      "\n",
      "//////////// Describe ////////////\n",
      "\n",
      "          close_spx         year        month  returns_spx    close_vix  \\\n",
      "count  7180.000000  7180.000000  7180.000000  7180.000000  7180.000000   \n",
      "mean   1182.637773  2003.739972     6.488440     0.000343    19.317065   \n",
      "std     576.773716     8.232987     3.429956     0.011065     7.841664   \n",
      "min     295.460000  1990.000000     1.000000    -0.090350     9.140000   \n",
      "25%     757.027500  1997.000000     4.000000    -0.004421    13.630000   \n",
      "50%    1166.030000  2004.000000     6.000000     0.000531    17.440001   \n",
      "75%    1426.547500  2011.000000     9.000000     0.005540    22.730000   \n",
      "max    2872.870000  2018.000000    12.000000     0.115800    80.860001   \n",
      "\n",
      "       returns_vix  \n",
      "count  7180.000000  \n",
      "mean      0.002139  \n",
      "std       0.067521  \n",
      "min      -0.295727  \n",
      "25%      -0.035841  \n",
      "50%      -0.003197  \n",
      "75%       0.032441  \n",
      "max       1.155979  \n",
      "\n",
      "//////////// Data Types ////////////\n",
      "\n",
      " close_spx      float64\n",
      "year             int64\n",
      "month            int64\n",
      "period          object\n",
      "returns_spx    float64\n",
      "close_vix      float64\n",
      "returns_vix    float64\n",
      "dtype: object\n"
     ]
    }
   ],
   "source": [
    "path = './data/'\n",
    "data_spx = loader.get_data(path =path,verbose=True)"
   ]
  },
  {
   "cell_type": "code",
   "execution_count": 4,
   "metadata": {},
   "outputs": [
    {
     "data": {
      "text/html": [
       "<div>\n",
       "<style scoped>\n",
       "    .dataframe tbody tr th:only-of-type {\n",
       "        vertical-align: middle;\n",
       "    }\n",
       "\n",
       "    .dataframe tbody tr th {\n",
       "        vertical-align: top;\n",
       "    }\n",
       "\n",
       "    .dataframe thead th {\n",
       "        text-align: right;\n",
       "    }\n",
       "</style>\n",
       "<table border=\"1\" class=\"dataframe\">\n",
       "  <thead>\n",
       "    <tr style=\"text-align: right;\">\n",
       "      <th></th>\n",
       "      <th>close_spx</th>\n",
       "      <th>year</th>\n",
       "      <th>month</th>\n",
       "      <th>period</th>\n",
       "      <th>returns_spx</th>\n",
       "      <th>close_vix</th>\n",
       "      <th>returns_vix</th>\n",
       "    </tr>\n",
       "    <tr>\n",
       "      <th>date</th>\n",
       "      <th></th>\n",
       "      <th></th>\n",
       "      <th></th>\n",
       "      <th></th>\n",
       "      <th></th>\n",
       "      <th></th>\n",
       "      <th></th>\n",
       "    </tr>\n",
       "  </thead>\n",
       "  <tbody>\n",
       "    <tr>\n",
       "      <th>1990-01-03</th>\n",
       "      <td>358.76</td>\n",
       "      <td>1990</td>\n",
       "      <td>1</td>\n",
       "      <td>1990_1</td>\n",
       "      <td>-0.002586</td>\n",
       "      <td>18.190001</td>\n",
       "      <td>0.055104</td>\n",
       "    </tr>\n",
       "    <tr>\n",
       "      <th>1990-01-04</th>\n",
       "      <td>355.66</td>\n",
       "      <td>1990</td>\n",
       "      <td>1</td>\n",
       "      <td>1990_1</td>\n",
       "      <td>-0.008641</td>\n",
       "      <td>19.219999</td>\n",
       "      <td>0.056624</td>\n",
       "    </tr>\n",
       "    <tr>\n",
       "      <th>1990-01-05</th>\n",
       "      <td>352.20</td>\n",
       "      <td>1990</td>\n",
       "      <td>1</td>\n",
       "      <td>1990_1</td>\n",
       "      <td>-0.009728</td>\n",
       "      <td>20.110001</td>\n",
       "      <td>0.046306</td>\n",
       "    </tr>\n",
       "    <tr>\n",
       "      <th>1990-01-08</th>\n",
       "      <td>353.79</td>\n",
       "      <td>1990</td>\n",
       "      <td>1</td>\n",
       "      <td>1990_1</td>\n",
       "      <td>0.004514</td>\n",
       "      <td>20.260000</td>\n",
       "      <td>0.007459</td>\n",
       "    </tr>\n",
       "    <tr>\n",
       "      <th>1990-01-09</th>\n",
       "      <td>349.62</td>\n",
       "      <td>1990</td>\n",
       "      <td>1</td>\n",
       "      <td>1990_1</td>\n",
       "      <td>-0.011787</td>\n",
       "      <td>22.200001</td>\n",
       "      <td>0.095755</td>\n",
       "    </tr>\n",
       "  </tbody>\n",
       "</table>\n",
       "</div>"
      ],
      "text/plain": [
       "            close_spx  year  month  period  returns_spx  close_vix  \\\n",
       "date                                                                 \n",
       "1990-01-03     358.76  1990      1  1990_1    -0.002586  18.190001   \n",
       "1990-01-04     355.66  1990      1  1990_1    -0.008641  19.219999   \n",
       "1990-01-05     352.20  1990      1  1990_1    -0.009728  20.110001   \n",
       "1990-01-08     353.79  1990      1  1990_1     0.004514  20.260000   \n",
       "1990-01-09     349.62  1990      1  1990_1    -0.011787  22.200001   \n",
       "\n",
       "            returns_vix  \n",
       "date                     \n",
       "1990-01-03     0.055104  \n",
       "1990-01-04     0.056624  \n",
       "1990-01-05     0.046306  \n",
       "1990-01-08     0.007459  \n",
       "1990-01-09     0.095755  "
      ]
     },
     "execution_count": 4,
     "metadata": {},
     "output_type": "execute_result"
    }
   ],
   "source": [
    "data_spx.head()"
   ]
  },
  {
   "cell_type": "markdown",
   "metadata": {
    "id": "Da4Cw9mqarCy"
   },
   "source": [
    "# 1 - **Check Stationarity**"
   ]
  },
  {
   "cell_type": "code",
   "execution_count": 5,
   "metadata": {
    "colab": {
     "base_uri": "https://localhost:8080/"
    },
    "id": "k4UbsNxD2GVh",
    "outputId": "fde5c0c5-0f40-4781-8e54-c8688fabdc77"
   },
   "outputs": [
    {
     "name": "stdout",
     "output_type": "stream",
     "text": [
      "ADF Statistic: -15.350436\n",
      "\n",
      "p-value: 0.000000\n",
      "\n",
      "Critical Values:\n",
      "\n",
      "\t1%: -3.431\n",
      "\t5%: -2.862\n",
      "\t10%: -2.567\n"
     ]
    }
   ],
   "source": [
    "st.check_stationarity(data_spx,col='returns_spx')"
   ]
  },
  {
   "cell_type": "markdown",
   "metadata": {
    "id": "peZOhAR12evJ"
   },
   "source": [
    "# 2 - Find optimal number of steps"
   ]
  },
  {
   "cell_type": "code",
   "execution_count": 6,
   "metadata": {
    "colab": {
     "base_uri": "https://localhost:8080/"
    },
    "id": "OorjgdPPKU9y",
    "outputId": "8948155a-735f-4ca6-de69-80fb7f31e227"
   },
   "outputs": [
    {
     "name": "stdout",
     "output_type": "stream",
     "text": [
      "=> Recommanded number of steps for returns_spx : 2\n"
     ]
    }
   ],
   "source": [
    "st.get_number_steps(data_spx,'returns_spx')"
   ]
  },
  {
   "cell_type": "markdown",
   "metadata": {
    "id": "SVZF0nlqD6K2"
   },
   "source": [
    "# 3 - Train/Test split\n",
    "* train 95%\n",
    "* test 5% "
   ]
  },
  {
   "cell_type": "code",
   "execution_count": 7,
   "metadata": {
    "id": "Lq8Eoe2aye0N"
   },
   "outputs": [],
   "source": [
    "# /////////////////// Split ////////////////////////\n",
    "train, test = loader.split_data(data = data_spx, pct_train_test = 0.95)"
   ]
  },
  {
   "cell_type": "markdown",
   "metadata": {
    "id": "VJIvwtRQFJpY"
   },
   "source": [
    "# 4 - Scale the Data"
   ]
  },
  {
   "cell_type": "code",
   "execution_count": 8,
   "metadata": {
    "colab": {
     "base_uri": "https://localhost:8080/",
     "height": 817
    },
    "id": "uBvdg8payxUS",
    "outputId": "38470141-3289-4121-daa1-996b14d56121"
   },
   "outputs": [],
   "source": [
    "# /////////////////// Scale ////////////////////////\n",
    "train, test = loader.scale_data(train, test, col = 'returns_spx', scaler = StandardScaler(),verbose = False)\n",
    "train, test = loader.scale_data(train, test, col = 'returns_vix', scaler = MinMaxScaler(),verbose = False)"
   ]
  },
  {
   "cell_type": "markdown",
   "metadata": {
    "id": "gBwLxPw7F9GQ"
   },
   "source": [
    "# 5 - Create data sliding windows for train and test sets"
   ]
  },
  {
   "cell_type": "code",
   "execution_count": 9,
   "metadata": {
    "id": "4sQ4RhRJGyZm"
   },
   "outputs": [],
   "source": [
    "# //////////////// Get the sliding windows ////////////////\n",
    "X_train, X_test, y_train, y_test = cd.get_data_sequences(train,test,col='returns_spx',TIME_STEPS = 2)"
   ]
  },
  {
   "cell_type": "markdown",
   "metadata": {
    "id": "ITeo2QsvHWNC"
   },
   "source": [
    "# 6 - Build the LSTM_autoencoder"
   ]
  },
  {
   "cell_type": "markdown",
   "metadata": {
    "id": "Rqqtn1u4FSzH"
   },
   "source": [
    "- Instanciate\n",
    "- Get the best parameters\n",
    "- Train on the best parameter"
   ]
  },
  {
   "cell_type": "markdown",
   "metadata": {
    "id": "nG8wn9_C0LuR"
   },
   "source": [
    "![image.png](data:image/png;base64,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)"
   ]
  },
  {
   "cell_type": "markdown",
   "metadata": {
    "id": "cX892FjjjmQJ"
   },
   "source": [
    "### 6.1.1 - Instanciate"
   ]
  },
  {
   "cell_type": "code",
   "execution_count": 10,
   "metadata": {
    "id": "FiEtbLYxM5QX"
   },
   "outputs": [],
   "source": [
    "X_train, X_test, y_train, y_test = cd.get_data_sequences(train,test,col='returns_spx',TIME_STEPS = 2)\n",
    "model_sp500 = LA.LSTM_autoencoder(train, test)"
   ]
  },
  {
   "cell_type": "markdown",
   "metadata": {
    "id": "wdsovBZrjpom"
   },
   "source": [
    "### 6.1.2 - Get the best parameters (no need to run it, already done)"
   ]
  },
  {
   "cell_type": "code",
   "execution_count": null,
   "metadata": {
    "colab": {
     "base_uri": "https://localhost:8080/"
    },
    "id": "uRU_ZGsk7dYV",
    "outputId": "df0cad52-b72c-4fc2-ab1b-a9e39d065f77"
   },
   "outputs": [
    {
     "name": "stdout",
     "output_type": "stream",
     "text": [
      "16/20 parameter sets"
     ]
    }
   ],
   "source": [
    "epoch = 2\n",
    "\n",
    "nb_hidden_units = [15,15,15,15,15,15,15,15,15,15,\n",
    "                   20,20,20,20,20,20,20,20,20,20\n",
    "                   ]\n",
    "n = len(nb_hidden_units)\n",
    "nb_epochs=[epoch]*n\n",
    "TIME_STEPS = [2,3,4,5,10,15,20,25,30,35,\n",
    "              2,3,4,5,10,15,20,25,30,35\n",
    "              ]\n",
    "droupout_rate = [.2]*n\n",
    "batch_size=[32]*n\n",
    "\n",
    "LA.get_best_param(model_sp500,train,test,\n",
    "                    nb_hidden_units = nb_hidden_units,\n",
    "                    nb_epochs=nb_epochs,\n",
    "                    TIME_STEPS = TIME_STEPS,\n",
    "                    droupout_rate = droupout_rate,\n",
    "                    batch_size=batch_size,\n",
    "                    col='returns_spx',\n",
    "                     verbose = False)"
   ]
  },
  {
   "cell_type": "markdown",
   "metadata": {
    "id": "nbiCIMEojuXY"
   },
   "source": [
    "### 6.1.3 - Train the Model on the best parameters"
   ]
  },
  {
   "cell_type": "code",
   "execution_count": null,
   "metadata": {
    "colab": {
     "base_uri": "https://localhost:8080/",
     "height": 542
    },
    "id": "Q9nbuArADbtc",
    "outputId": "97f1b792-7c7f-4649-88cf-951fe409f5b1"
   },
   "outputs": [],
   "source": [
    "\n",
    "optimizer = tf.keras.optimizers.Adam(\n",
    "                                              learning_rate=0.001, beta_1=0.9, beta_2=0.999, epsilon=1e-07, amsgrad=True,\n",
    "                                              name='Adam')\n",
    "\n",
    "X_train, X_test, y_train, y_test = cd.get_data_sequences(train,test,col='returns_spx',TIME_STEPS = 2)\n",
    "model_sp500 = LA.LSTM_autoencoder(train, test)\n",
    "model_sp500.build_model(X_train,nb_hidden_units = 20,optimizer = optimizer,droupout_rate = 0.2,verbose = False)\n",
    "model_sp500.train_it(X_train, y_train,nb_epochs=10,batch_size=32,verbose = False)\n",
    "model_sp500.plot_history()"
   ]
  },
  {
   "cell_type": "markdown",
   "metadata": {
    "id": "p5dylY2MZdTm"
   },
   "source": [
    "# 7 - SP500 Model : Predict on Train Set and check Error "
   ]
  },
  {
   "cell_type": "code",
   "execution_count": null,
   "metadata": {
    "id": "-7IDMZkFfAFX"
   },
   "outputs": [],
   "source": [
    "model_sp500.predict(X_train)\n",
    "pred_sp500_train = model_sp500.predictions\n",
    "loss_sp500_train = model_sp500.mae_loss"
   ]
  },
  {
   "cell_type": "markdown",
   "metadata": {
    "id": "fqH5W_SyhVCV"
   },
   "source": [
    "### Error distribution Train Set\n",
    "> Does help in chosing an anomaly treshold."
   ]
  },
  {
   "cell_type": "code",
   "execution_count": null,
   "metadata": {
    "colab": {
     "base_uri": "https://localhost:8080/",
     "height": 417
    },
    "id": "jnqGDb3sFs7O",
    "outputId": "5aec309c-7ea7-4093-ba21-379ca5e39755"
   },
   "outputs": [],
   "source": [
    "plt.hist(\n",
    "    data=pd.Series(loss_sp500_train.reshape(-1)),\n",
    "    col=0)"
   ]
  },
  {
   "cell_type": "markdown",
   "metadata": {
    "id": "9r_qMd2XZudk"
   },
   "source": [
    "# 8 - Anomalies on Train Set\n",
    "> Does help in chosing an anomaly treshold."
   ]
  },
  {
   "cell_type": "code",
   "execution_count": null,
   "metadata": {
    "colab": {
     "base_uri": "https://localhost:8080/",
     "height": 1000
    },
    "id": "MdhOIdahuHKL",
    "outputId": "284e38c5-0ff7-40be-d7fb-9beb99b658b7"
   },
   "outputs": [],
   "source": [
    "anomaly_sp500_train = model_sp500.get_anomaly_prediction_df(X_train,set_type='train',THRESHOLD=.12,TIME_STEPS=2,is_spx=True)\n",
    "plt.plot_loss_tresshold(anomaly_sp500_train)\n",
    "plt.plot_anomalies(anomaly_sp500_train,secondary_y='close_vix')\n",
    "\n"
   ]
  },
  {
   "cell_type": "markdown",
   "metadata": {},
   "source": [
    "# 9 - Anomalies on Test Set"
   ]
  },
  {
   "cell_type": "code",
   "execution_count": null,
   "metadata": {},
   "outputs": [],
   "source": [
    "anomaly_sp500_test = model_sp500.get_anomaly_prediction_df(X_test,set_type='test',THRESHOLD=.12,TIME_STEPS=2,is_spx=True)\n",
    "plt.plot_loss_tresshold(anomaly_sp500_test)\n",
    "plt.plot_anomalies(anomaly_sp500_test,secondary_y='close_vix')"
   ]
  },
  {
   "cell_type": "markdown",
   "metadata": {
    "id": "UenP9SmdBd0M"
   },
   "source": [
    "# 10 - Analysis of anomalies' dates\n"
   ]
  },
  {
   "cell_type": "markdown",
   "metadata": {
    "id": "aXijPNHLCJBJ"
   },
   "source": [
    "## Detected on train set"
   ]
  },
  {
   "cell_type": "code",
   "execution_count": null,
   "metadata": {
    "id": "e2_ETmAzHDMQ"
   },
   "outputs": [],
   "source": [
    "anomaly_sp500_train[anomaly_sp500_train.anomaly==True]\n",
    "anomaly_sp500_train['date']=anomaly_sp500_train.index\n",
    "anomaly_sp500_train['event'] = anomaly_sp500_train.date.apply(lambda d :'https://www.onthisday.com/date/%d/%s/%d'%(d.year,calendar.month_name[d.month],d.day))\n",
    "#anomaly_sp500_train['event'] = anomaly_sp500_train.date.apply(lambda d :'https://www.nytimes.com/%d/%d/%d/business'%(d.year,d.month,d.day))\n",
    "#https://www.onthisday.com/date/1990/august/28\n",
    "anomaly_sp500_train[anomaly_sp500_train.anomaly==True].head(20)"
   ]
  },
  {
   "cell_type": "code",
   "execution_count": null,
   "metadata": {
    "id": "XIoGwhp6IWip"
   },
   "outputs": [],
   "source": [
    "anomaly_sp500_train#.date.iloc[0].day"
   ]
  },
  {
   "cell_type": "markdown",
   "metadata": {
    "id": "szXu9DfyEx6y"
   },
   "source": [
    "7/8/1990 - https://www.onthisday.com/date/1990/august/7"
   ]
  },
  {
   "cell_type": "markdown",
   "metadata": {
    "id": "b5zKU79JYm61"
   },
   "source": [
    "## Black Monday - October 1987\n",
    "Black Monday is used most often to refer to the second-largest one-day percentage drop in stock market history. It occurred on Oct. 19, 1987, when the Dow Jones Industrial Average dropped 22.61%, falling 508 points to 1738.74. The S&P 500 fell 20.4%, dropping 57.64 points to 225.06. It took two years for the Dow to regain this loss.1\n",
    "\n",
    "\n",
    "## Black Monday - August 2015\n",
    "On Aug. 24, 2015, the Dow fell 1,089 points to 15,370.33, as soon as the market opened. It was a 16% drop from its May 19 high of 18,312.39. It quickly recovered and closed just 533 points below the open. A 10% drop makes it a market correction, not a crash. It followed a 531-point drop the previous Friday.6\n",
    "\n",
    "﻿ Both were caused by worries about slower economic growth in China and uncertainty over its yuan devaluation. \n",
    "\n",
    "\n",
    "## 7 August 1990 \n",
    "US deploys troops to Saudi Arabia beginning Operation Desert Shield after Iraq invaded Kuwait.\n",
    "\n",
    "## 24 August 1990\n",
    "Iraqi troops surround US & other embassies in Kuwait City\n",
    "\n",
    "## 27 october 1997 mini-crash\n",
    "https://en.wikipedia.org/wiki/October_27,_1997,_mini-crash\n",
    "\n",
    "\n",
    "## 27-28 August 1998\n",
    "had the Russian debt crisis and Long-Term Capital Management (LTCM) collapse;\n",
    "\n",
    "## 10 Mar 2000\n",
    "Dot-com bubble, Collapse of a technology bubble.\n",
    "\n",
    "## 11 Sep 2001 (not detected)\n",
    "\n",
    "## 16 Sep 2008 Financial crisis of 2007–08\n",
    "\n",
    "## \t6 May 2010\n",
    "2010 flash crash\n",
    "\n",
    "## August 2011\n",
    "gave us the U.S. debt downgrade;\n",
    "\n",
    "#FEBRUARY 5, 2018 (not detected) \n",
    " - Wall Street plunges, S&P 500 erases 2018's gains\n",
    "> https://www.reuters.com/article/us-usa-stocks-idUSKBN1FP1OR"
   ]
  },
  {
   "cell_type": "markdown",
   "metadata": {
    "id": "cazZ9HF8g9ua"
   },
   "source": [
    "# 9 - Conclusion\n",
    "\n"
   ]
  },
  {
   "cell_type": "markdown",
   "metadata": {
    "id": "jPVMI1VLYsHe"
   },
   "source": [
    "The model seems to detect anomaly on the period of huge peak of the VIX, hence enabling to detect major crisis and events.\n",
    "\n",
    "More investigation could be done on the anomalies' date to further asess the relevance of the model. "
   ]
  },
  {
   "cell_type": "markdown",
   "metadata": {
    "id": "6bQjzBWozpJN"
   },
   "source": [
    "# Annex\n"
   ]
  },
  {
   "cell_type": "markdown",
   "metadata": {
    "id": "Xytnx2qUzuDU"
   },
   "source": [
    "## Links on Stationarity\n",
    "> https://www.youtube.com/watch?v=aIdTGKjQWjA\n",
    "\n",
    "> https://www.youtube.com/watch?v=oY-j2Wof51c\n",
    "\n",
    "> https://www.youtube.com/watch?v=ca0rDWo7IpI\n",
    "\n",
    "> https://www.youtube.com/watch?v=CyHKQQRXfww\n",
    "\n",
    "> https://www.youtube.com/watch?v=e8Yw4alG16Q\n",
    "\n",
    "> https://www.youtube.com/watch?v=SJHVyn3UbWc\n",
    "\n",
    "> https://towardsdatascience.com/timeseries-data-munging-lagging-variables-that-are-distributed-across-multiple-groups-86e0a038460c\n",
    "\n",
    "> https://jasdeep06.github.io/posts/Understanding-LSTM-in-Tensorflow-MNIST/"
   ]
  },
  {
   "cell_type": "markdown",
   "metadata": {
    "id": "WTcQ4geR7H5A"
   },
   "source": [
    "## NN, LSTM Parameters\n",
    "\n",
    "> http://colah.github.io/posts/2015-08-Understanding-LSTMs/\n",
    "\n",
    "> https://stats.stackexchange.com/questions/365428/difference-between-a-single-unit-lstm-and-3-unit-lstm-neural-network/365600\n"
   ]
  },
  {
   "cell_type": "markdown",
   "metadata": {
    "id": "XkKJAXz19ZB7"
   },
   "source": [
    "## Links to help finding the best parameters\n",
    "> https://www.youtube.com/watch?v=6S2v7G-OupA\n",
    "\n",
    "> https://www.renom.jp/notebooks/tutorial/time_series/lstm-anomalydetection/notebook.html\n",
    "\n",
    "> https://www.youtube.com/watch?v=LfnrRPFhkuY\n",
    "\n",
    "> https://www.youtube.com/watch?v=Y2wfIKQyd1I\n",
    "\n",
    "> https://medium.com/quantitative-investing/machine-learning-project-is-lstm-able-to-predict-the-stock-market-f21ce9106182\n",
    "\n",
    "> Volatility predicting\n",
    "https://www.learningmarkets.com/predicting-volatility-with-the-vix/"
   ]
  },
  {
   "cell_type": "markdown",
   "metadata": {
    "id": "cWYwpyHt_Xla"
   },
   "source": [
    "# Available Optimizers :\n",
    "\n",
    "> https://www.tensorflow.org/api_docs/python/tf/keras/optimizers\n",
    "\n",
    "* Adadelta : KO, higher mae than Adam \n",
    "* Adagrade : KO, longer to converge with higher mae than Adam \n",
    "* Adamax : KO, longer to converge with higher mae than Adam \n",
    "* Ftrl : KO, longer to converge with higher mae than Adam \n",
    "* Nadam : same result than Adam\n",
    "* RMSProp : same result than Adam\n",
    "* SGD : same result than Adam"
   ]
  },
  {
   "cell_type": "markdown",
   "metadata": {
    "id": "S9w5zuUOYuph"
   },
   "source": [
    "https://www.youtube.com/channel/UC34rW-HtPJulxr5wp2Xa04w"
   ]
  },
  {
   "cell_type": "code",
   "execution_count": null,
   "metadata": {
    "id": "GNCJNxesfjVb"
   },
   "outputs": [],
   "source": [
    "#https://www.pyimagesearch.com/2020/02/17/autoencoders-with-keras-tensorflow-and-deep-learning/"
   ]
  }
 ],
 "metadata": {
  "accelerator": "GPU",
  "colab": {
   "collapsed_sections": [],
   "name": "TP_Finance_AutoEncoder_LSTM.ipynb",
   "provenance": []
  },
  "kernelspec": {
   "display_name": "Python 3",
   "language": "python",
   "name": "python3"
  },
  "language_info": {
   "codemirror_mode": {
    "name": "ipython",
    "version": 3
   },
   "file_extension": ".py",
   "mimetype": "text/x-python",
   "name": "python",
   "nbconvert_exporter": "python",
   "pygments_lexer": "ipython3",
   "version": "3.8.8"
  }
 },
 "nbformat": 4,
 "nbformat_minor": 1
}
