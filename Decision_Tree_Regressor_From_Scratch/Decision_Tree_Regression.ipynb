{
 "cells": [
  {
   "cell_type": "markdown",
   "metadata": {
    "id": "Y0R9MWezE9uN"
   },
   "source": [
    "# 0 - Modules"
   ]
  },
  {
   "cell_type": "code",
   "execution_count": 6,
   "metadata": {
    "colab": {
     "base_uri": "https://localhost:8080/"
    },
    "id": "yaZldnE-NNC7",
    "outputId": "8d774d33-e2e4-4a05-bf72-c7904766b1c0"
   },
   "outputs": [],
   "source": [
    "# ##################################\n",
    "#\n",
    "#  much of the cod is stored in \n",
    "#  my package for more readability\n",
    "#\n",
    "# ################################## \n",
    "from mypackage import regressor as reg\n",
    "\n",
    "import zipfile\n",
    "import pandas as pd\n",
    "import numpy as np"
   ]
  },
  {
   "cell_type": "markdown",
   "metadata": {
    "id": "0ceKfq3pQneV"
   },
   "source": [
    "# 1 - Load and split Data"
   ]
  },
  {
   "cell_type": "code",
   "execution_count": 7,
   "metadata": {
    "id": "kuYSSQwnRdTD"
   },
   "outputs": [],
   "source": [
    "def get_data(zip_folder):\n",
    "  with zipfile.ZipFile(zip_folder) as z:\n",
    "\n",
    "    with z.open(\"train.csv\") as f:\n",
    "        train = pd.read_csv(f, header=0, delimiter=\",\")\n",
    "\n",
    "    with z.open(\"test.csv\") as f:\n",
    "        test = pd.read_csv(f, header=0, delimiter=\",\")\n",
    "\n",
    "    return train, test"
   ]
  },
  {
   "cell_type": "code",
   "execution_count": 8,
   "metadata": {
    "colab": {
     "base_uri": "https://localhost:8080/"
    },
    "id": "Fdi8lUKuGFur",
    "outputId": "fe6a2cff-3bb3-483c-b9d0-5b8145c6eadf"
   },
   "outputs": [],
   "source": [
    "zip_folder = 'Housing_Data.zip'\n",
    "train, test = get_data(zip_folder)\n",
    "X = train[['OverallQual', 'GrLivArea', 'GarageCars']]\n",
    "y = train['SalePrice']"
   ]
  },
  {
   "cell_type": "code",
   "execution_count": 9,
   "metadata": {
    "id": "Uv6YxGLyAunv"
   },
   "outputs": [],
   "source": [
    "split_index = int(len(train)*.7)\n",
    "X_train = X.iloc[:split_index]\n",
    "X_test = X.iloc[split_index:]\n",
    "\n",
    "y_train = y.iloc[:split_index]\n",
    "y_test = y.iloc[split_index:]"
   ]
  },
  {
   "cell_type": "markdown",
   "metadata": {
    "id": "eEwEahgiI387"
   },
   "source": [
    "# 2 - My Decision Tree implementation"
   ]
  },
  {
   "cell_type": "markdown",
   "metadata": {},
   "source": [
    "## 2.1 - Instanciate and train the model"
   ]
  },
  {
   "cell_type": "code",
   "execution_count": 11,
   "metadata": {
    "colab": {
     "base_uri": "https://localhost:8080/"
    },
    "id": "HvjhXOPoVt0N",
    "outputId": "b03f908d-c0d1-4326-f082-64cb3a894b49"
   },
   "outputs": [
    {
     "data": {
      "text/plain": [
       "<mypackage.regressor.MyDecisionTreeRegressor at 0x15acaaa88e0>"
      ]
     },
     "execution_count": 11,
     "metadata": {},
     "output_type": "execute_result"
    }
   ],
   "source": [
    "regressor = reg.MyDecisionTreeRegressor()\n",
    "X_train,y_train= X,y\n",
    "regressor.fit( X_train, y_train, min_leaf = 2)"
   ]
  },
  {
   "cell_type": "markdown",
   "metadata": {},
   "source": [
    "## 2.2 - Evaluate on Trainset and Testset"
   ]
  },
  {
   "cell_type": "code",
   "execution_count": 13,
   "metadata": {
    "colab": {
     "base_uri": "https://localhost:8080/"
    },
    "id": "_HNgbpzlrsHY",
    "outputId": "eb9b2798-36fb-495f-e4cc-7450d8a85a04"
   },
   "outputs": [
    {
     "name": "stdout",
     "output_type": "stream",
     "text": [
      "----------- Performance Metrics ------------\n",
      "- RMSE : 20160.036248\n",
      "- R2 :0.935557\n"
     ]
    }
   ],
   "source": [
    "preds = regressor.predict(X_train)\n",
    "reg.performance(preds, y_train)"
   ]
  },
  {
   "cell_type": "code",
   "execution_count": 14,
   "metadata": {
    "colab": {
     "base_uri": "https://localhost:8080/"
    },
    "id": "9S7drSMQAfRU",
    "outputId": "423541de-987a-4e52-e5a8-2f75e509dfbe"
   },
   "outputs": [
    {
     "name": "stdout",
     "output_type": "stream",
     "text": [
      "----------- Performance Metrics ------------\n",
      "- RMSE : 19380.355560\n",
      "- R2 :0.938824\n"
     ]
    }
   ],
   "source": [
    "preds = regressor.predict(X_test)\n",
    "reg.performance(preds, y_test)"
   ]
  },
  {
   "cell_type": "markdown",
   "metadata": {
    "id": "GBA9bBdAI72V"
   },
   "source": [
    "# 3 - Sklearn implementation"
   ]
  },
  {
   "cell_type": "markdown",
   "metadata": {},
   "source": [
    "## 3.1 - Instanciate and train the model"
   ]
  },
  {
   "cell_type": "code",
   "execution_count": 18,
   "metadata": {},
   "outputs": [],
   "source": [
    "from sklearn.tree import DecisionTreeRegressor\n",
    "\n",
    "regressor = DecisionTreeRegressor()\n",
    "regressor = regressor.fit(X_train, y_train)"
   ]
  },
  {
   "cell_type": "markdown",
   "metadata": {},
   "source": [
    "## 3.2 - Evaluate on Trainset and Testset"
   ]
  },
  {
   "cell_type": "code",
   "execution_count": 19,
   "metadata": {
    "colab": {
     "base_uri": "https://localhost:8080/"
    },
    "id": "XCWEkSKoJkWF",
    "outputId": "4ffe52f4-d1ca-480b-bff7-92ff92c5ceef"
   },
   "outputs": [
    {
     "name": "stdout",
     "output_type": "stream",
     "text": [
      "----------- Performance Metrics ------------\n",
      "- RMSE : 8634.646802\n",
      "- R2 :0.988178\n"
     ]
    }
   ],
   "source": [
    "preds = regressor.predict(X_train)\n",
    "reg.performance(preds, y_train)"
   ]
  },
  {
   "cell_type": "code",
   "execution_count": 20,
   "metadata": {
    "colab": {
     "base_uri": "https://localhost:8080/"
    },
    "id": "9N1VF5uRFyNt",
    "outputId": "d1cd1193-051c-4c5e-df26-45eaf69a3fdf"
   },
   "outputs": [
    {
     "name": "stdout",
     "output_type": "stream",
     "text": [
      "----------- Performance Metrics ------------\n",
      "- RMSE : 8411.519702\n",
      "- R2 :0.988476\n"
     ]
    }
   ],
   "source": [
    "preds = regressor.predict(X_test)\n",
    "reg.performance(preds, y_test)"
   ]
  }
 ],
 "metadata": {
  "colab": {
   "collapsed_sections": [
    "qWDPJFUYXRWG",
    "0ceKfq3pQneV"
   ],
   "name": "Decision_Tree_Regression.ipynb",
   "provenance": [],
   "toc_visible": true
  },
  "kernelspec": {
   "display_name": "Python 3",
   "language": "python",
   "name": "python3"
  },
  "language_info": {
   "codemirror_mode": {
    "name": "ipython",
    "version": 3
   },
   "file_extension": ".py",
   "mimetype": "text/x-python",
   "name": "python",
   "nbconvert_exporter": "python",
   "pygments_lexer": "ipython3",
   "version": "3.8.5"
  }
 },
 "nbformat": 4,
 "nbformat_minor": 1
}
