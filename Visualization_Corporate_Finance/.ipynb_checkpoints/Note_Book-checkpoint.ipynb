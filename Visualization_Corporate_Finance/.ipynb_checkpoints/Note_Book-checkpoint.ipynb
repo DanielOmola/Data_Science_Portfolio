{
 "cells": [
  {
   "cell_type": "markdown",
   "metadata": {
    "id": "9oWJmqgwq9va"
   },
   "source": [
    "# 0 - Modules"
   ]
  },
  {
   "cell_type": "code",
   "execution_count": null,
   "metadata": {
    "colab": {
     "base_uri": "https://localhost:8080/"
    },
    "id": "GE1oClBxs7xj",
    "outputId": "0bc473fb-6b6b-4045-fc7e-d7b3311d140d"
   },
   "outputs": [],
   "source": [
    "import pandas as pd\n",
    "import numpy as np\n",
    "\n",
    "from mypackage import data_processor\n",
    "from mypackage import ploter as plt"
   ]
  },
  {
   "cell_type": "markdown",
   "metadata": {
    "id": "wvexRfpfrBMH"
   },
   "source": [
    "# 1 - Load raw Data\n",
    "* companies\n",
    "* industries\n",
    "* markets\n",
    "* balance_sheet\n",
    "* income"
   ]
  },
  {
   "cell_type": "code",
   "execution_count": null,
   "metadata": {},
   "outputs": [],
   "source": [
    "companies,industries,markets,balance_sheet,income = data_processor.load_raw_data()"
   ]
  },
  {
   "cell_type": "code",
   "execution_count": null,
   "metadata": {
    "colab": {
     "base_uri": "https://localhost:8080/"
    },
    "id": "Z9cIRDIOU3oq",
    "outputId": "712cb2f8-7182-404d-a867-aba9d41ad6e3"
   },
   "outputs": [],
   "source": [
    "industries.shape, markets.shape, balance_sheet.shape, income.shape, companies.shape"
   ]
  },
  {
   "cell_type": "markdown",
   "metadata": {
    "id": "iaVStq7Y_stM"
   },
   "source": [
    "# 2 - Join raw data"
   ]
  },
  {
   "cell_type": "code",
   "execution_count": null,
   "metadata": {},
   "outputs": [],
   "source": [
    "data = data_processor.join_raw_data(industries, markets, balance_sheet, income, companies,verbose=True)\n",
    "\n",
    "categorical = ['Company Name','Currency','Fiscal Year','Industry','IndustryId',\n",
    "                'Market Name','MarketId','Fiscal Period','Publish Date','Report Date','Restated Date',\n",
    "                'Sector','SimFinId','Ticker','key']\n",
    "numerical = pd.Series(data.columns)     \n",
    "numerical=numerical[~numerical.isin(categorical)]"
   ]
  },
  {
   "cell_type": "markdown",
   "metadata": {
    "id": "cA0U0Sz1Iaia"
   },
   "source": [
    "# 2 - Data Cleansing"
   ]
  },
  {
   "cell_type": "markdown",
   "metadata": {
    "id": "OI3ENBiP1n7j"
   },
   "source": [
    "## Check Balance Sheet Consistensy"
   ]
  },
  {
   "cell_type": "code",
   "execution_count": null,
   "metadata": {
    "colab": {
     "base_uri": "https://localhost:8080/"
    },
    "id": "bWCBmOmw5Tmz",
    "outputId": "ce38e72f-9823-400e-ae6d-0e4036b2637d",
    "scrolled": false
   },
   "outputs": [],
   "source": [
    "data_processor.check_unbalanced(data)"
   ]
  },
  {
   "cell_type": "code",
   "execution_count": null,
   "metadata": {},
   "outputs": [],
   "source": [
    "data_processor.check_revenue(data)"
   ]
  },
  {
   "cell_type": "code",
   "execution_count": null,
   "metadata": {
    "id": "MlNVX6L03KHQ"
   },
   "outputs": [],
   "source": [
    "data = data[(data['Total Assets']==data['Total Liabilities & Equity'])]\n",
    "data = data[data.Revenue>0]"
   ]
  },
  {
   "cell_type": "markdown",
   "metadata": {
    "id": "oOcsIKTNd4lG"
   },
   "source": [
    "## Check NaN columns"
   ]
  },
  {
   "cell_type": "code",
   "execution_count": null,
   "metadata": {
    "colab": {
     "base_uri": "https://localhost:8080/",
     "height": 542
    },
    "id": "b7EStdV0wEv-",
    "outputId": "25d68d2e-1bc6-4998-93a3-0afc1df21123"
   },
   "outputs": [],
   "source": [
    "data_processor.plot_NA(data)"
   ]
  },
  {
   "cell_type": "markdown",
   "metadata": {
    "id": "yHVqfbVRDM3E"
   },
   "source": [
    "## Check NaN columns after droping some columns"
   ]
  },
  {
   "cell_type": "code",
   "execution_count": null,
   "metadata": {
    "colab": {
     "base_uri": "https://localhost:8080/",
     "height": 559
    },
    "id": "s5NHJo6X6Suu",
    "outputId": "d547394b-2a46-4d5f-b236-ecf00777d9e8"
   },
   "outputs": [],
   "source": [
    "columns_to_drop = ['Research & Development',\n",
    "'Depreciation & Amortization',\n",
    "'Net Extraordinary Gains (Losses)',\n",
    "'Long Term Investments & Receivables',\n",
    "'Treasury Stock','Abnormal Gains (Losses)','Inventories']\n",
    "\n",
    "data = data[data.columns[~data.columns.isin(columns_to_drop)]]\n",
    "data_processor.plot_NA(data)\n"
   ]
  },
  {
   "cell_type": "markdown",
   "metadata": {
    "id": "DMcGdCszDoFb"
   },
   "source": [
    "## Check data availability per year\n",
    "> I focused on Short Term Debt and Long Term Debt the less available data"
   ]
  },
  {
   "cell_type": "code",
   "execution_count": null,
   "metadata": {
    "colab": {
     "base_uri": "https://localhost:8080/",
     "height": 542
    },
    "id": "xBsTacOTpopN",
    "outputId": "9c249607-24bc-44ba-c829-8ea5d506e257"
   },
   "outputs": [],
   "source": [
    "data_processor.check_availability_year(data,values='Short Term Debt',col='Company Name')"
   ]
  },
  {
   "cell_type": "code",
   "execution_count": null,
   "metadata": {
    "id": "5KoVV3AqpaoY"
   },
   "outputs": [],
   "source": [
    "data_processor.check_availability_year(data,values='Long Term Debt',col='Company Name')"
   ]
  },
  {
   "cell_type": "markdown",
   "metadata": {
    "id": "4wXhR8EtJEnT"
   },
   "source": [
    "## Check data availability per Company"
   ]
  },
  {
   "cell_type": "code",
   "execution_count": null,
   "metadata": {
    "id": "rDHeaYAOqyd_"
   },
   "outputs": [],
   "source": [
    "data_processor.check_availability_company(data,values='Short Term Debt',col='Company Name')"
   ]
  },
  {
   "cell_type": "markdown",
   "metadata": {
    "id": "9Qx-Pr6Vq-_6"
   },
   "source": [
    "## Create a consistent Data Set"
   ]
  },
  {
   "cell_type": "code",
   "execution_count": null,
   "metadata": {
    "colab": {
     "base_uri": "https://localhost:8080/"
    },
    "id": "zkMDq8gZsBcJ",
    "outputId": "156e5645-948e-4cbb-cf27-cb96aad75f21"
   },
   "outputs": [],
   "source": [
    "initial_year=2010\n",
    "data = data_processor.join_raw_data(industries, markets, balance_sheet, income, companies)\n",
    "print(data.shape)\n",
    "data=data_processor.get_consistent_data(data.copy(),initial_year = initial_year,values='Short Term Debt')\n",
    "data=data_processor.get_consistent_data(data.copy(),initial_year = initial_year,values='Long Term Debt')\n",
    "data.shape"
   ]
  },
  {
   "cell_type": "code",
   "execution_count": null,
   "metadata": {
    "colab": {
     "base_uri": "https://localhost:8080/",
     "height": 542
    },
    "id": "WXzj_AuWuaTa",
    "outputId": "876f504d-67f8-48cd-f1e2-b479e91fc73d"
   },
   "outputs": [],
   "source": [
    "data_processor.check_availability_year(data,values='Short Term Debt',col='Company Name')"
   ]
  },
  {
   "cell_type": "code",
   "execution_count": null,
   "metadata": {
    "colab": {
     "base_uri": "https://localhost:8080/",
     "height": 542
    },
    "id": "MTZnmlWLueqy",
    "outputId": "e64aa68e-4322-462f-a7ce-c0a9941aea06"
   },
   "outputs": [],
   "source": [
    "data_processor.check_availability_year(data,values='Long Term Debt',col='Company Name')"
   ]
  },
  {
   "cell_type": "code",
   "execution_count": null,
   "metadata": {
    "colab": {
     "base_uri": "https://localhost:8080/",
     "height": 542
    },
    "id": "bk5176SnuTnl",
    "outputId": "408164d2-c0d7-4b20-c7ad-cde1e59d953b"
   },
   "outputs": [],
   "source": [
    "data_processor.check_availability_company(data,values='Short Term Debt',col='Company Name')"
   ]
  },
  {
   "cell_type": "markdown",
   "metadata": {
    "id": "II6IRcHUIpXX"
   },
   "source": [
    "# 6 - Features Engineering - Financial Ratios\n",
    "\n",
    ">  Financial ratio CFA : https://analystprep.com/blog/financial-ratio-sheet/"
   ]
  },
  {
   "cell_type": "code",
   "execution_count": null,
   "metadata": {
    "id": "yg7YOyZ7-WXW"
   },
   "outputs": [],
   "source": [
    "data = data_processor.features_engineering(data.copy())"
   ]
  },
  {
   "cell_type": "markdown",
   "metadata": {
    "id": "uGbsrBipCHsM"
   },
   "source": [
    "# 8- The graph bellow help answering the following questions:\n",
    "* How does the industry landscape of usa changed between two dates?\n",
    "* How does the business contracted betwween two dates?\n",
    "* What is the main sectors in the the US economy?\n",
    "* What is the concentration of an industry at a certain date? "
   ]
  },
  {
   "cell_type": "code",
   "execution_count": null,
   "metadata": {},
   "outputs": [],
   "source": [
    "def get_sunburst(view,path,values,branchvalues=\"total\"):\n",
    "  fig = px.sunburst(view, path=path, values=values,branchvalues=branchvalues)\n",
    "  fig.show()"
   ]
  },
  {
   "cell_type": "code",
   "execution_count": null,
   "metadata": {
    "scrolled": false
   },
   "outputs": [],
   "source": [
    "view = data[['Fiscal Year','Industry','Sector','Company Name','Revenue']].groupby(['Fiscal Year','Sector','Industry']).agg({'Company Name':['count'],\n",
    "                                                                                             'Revenue':['sum']})\n",
    "view=view.reset_index()\n",
    "\n",
    "view.columns = ['Year','Industry','Sector','Company','Total_Revenue']\n",
    "\n",
    "path=['Year', 'Industry','Sector','Company']\n",
    "values='Total_Revenue'\n",
    "plt.get_sunburst(view[view.Year.isin([2010,2017,2018,2019])],path,values)"
   ]
  },
  {
   "cell_type": "markdown",
   "metadata": {},
   "source": [
    "## Sector segmentation in 2019 "
   ]
  },
  {
   "cell_type": "code",
   "execution_count": null,
   "metadata": {},
   "outputs": [],
   "source": [
    "view = data[['Fiscal Year','Industry','Sector','Company Name','Revenue']]\n",
    "\n",
    "view.columns = ['Year','Industry','Sector','Company','Revenue']\n",
    "\n",
    "path=['Year','Sector','Industry']\n",
    "values='Revenue'\n",
    "plt.get_sunburst(view[view.Year.isin([2019])],path,values)"
   ]
  },
  {
   "cell_type": "code",
   "execution_count": null,
   "metadata": {},
   "outputs": [],
   "source": [
    "plt.show_macro_evolution(data = data.copy(),col = 'Revenue')"
   ]
  },
  {
   "cell_type": "markdown",
   "metadata": {},
   "source": [
    "## The chart bellow displays the weight of each industry in is sector in 2019"
   ]
  },
  {
   "cell_type": "code",
   "execution_count": null,
   "metadata": {},
   "outputs": [],
   "source": [
    "year = 2019\n",
    "view = data[data['Fiscal Year'].isin([year])][['Fiscal Year','Industry','Sector','Company Name','Revenue']]\n",
    "\n",
    "view.columns = ['Year','Industry','Sector','Company','Revenue']\n",
    "\n",
    "view_sector = view.groupby('Sector').agg({'Revenue':'sum'})\n",
    "view_sector_industry =view.groupby(['Year','Sector','Industry']).agg({'Revenue':'sum'}).dropna()\n",
    "sector_secgmentation = view_sector_industry.div(view_sector, level='Sector') * 100\n",
    "sector_secgmentation= sector_secgmentation.reset_index()\n",
    "\n",
    "path=['Year','Sector','Industry']\n",
    "values='Revenue'\n",
    "plt.get_sunburst(sector_secgmentation,path,values)"
   ]
  },
  {
   "cell_type": "markdown",
   "metadata": {},
   "source": [
    "## The chart bellow displays the weight of each company inside its industry in 2019"
   ]
  },
  {
   "cell_type": "code",
   "execution_count": null,
   "metadata": {},
   "outputs": [],
   "source": [
    "year = 2019\n",
    "view = data[data['Fiscal Year'].isin([year])][['Fiscal Year','Industry','Sector','Company Name','Revenue']]\n",
    "\n",
    "view.columns = ['Year','Industry','Sector','Company','Revenue']\n",
    "\n",
    "\n",
    "view_industry = view.groupby('Sector').agg({'Revenue':'sum'})\n",
    "view_industry_company =view.groupby(['Year','Sector','Company']).agg({'Revenue':'sum'}).dropna()\n",
    "industry_secgmentation = view_industry_company.div(view_industry, level='Sector') * 100\n",
    "industry_secgmentation= industry_secgmentation.reset_index()\n",
    "\n",
    "path=['Year','Sector','Company']\n",
    "values='Revenue'\n",
    "plt.get_sunburst(industry_secgmentation,path,values)"
   ]
  },
  {
   "cell_type": "markdown",
   "metadata": {},
   "source": [
    "## I want to invest in one sector ?\n",
    "- What sub sector and company should I investigate ?\n",
    "- Which company should I investigate ?"
   ]
  },
  {
   "cell_type": "code",
   "execution_count": null,
   "metadata": {},
   "outputs": [],
   "source": [
    "year = 2019\n",
    "view = data[data['Fiscal Year'].isin([year])][['Fiscal Year','Industry','Sector','Company Name','roe']]\n",
    "\n",
    "view.columns = ['Year','Industry','Sector','Company','roe']\n",
    "view=view[view.roe>0]\n",
    "\n",
    "view_sector_industry =view.groupby(['Year','Sector']).agg({'roe':'mean'}).dropna()\n",
    "\n",
    "path=['Year','Sector']\n",
    "values='roe'\n",
    "plt.get_sunburst(view_sector_industry.reset_index(),path,values)"
   ]
  },
  {
   "cell_type": "code",
   "execution_count": null,
   "metadata": {},
   "outputs": [],
   "source": [
    "plt.show_macro_evolution(data = data[data.Sector!='other'],col = 'roe')"
   ]
  },
  {
   "cell_type": "code",
   "execution_count": null,
   "metadata": {},
   "outputs": [],
   "source": [
    "year = 2019\n",
    "view = data[data['Fiscal Year'].isin([year])][['Fiscal Year','Industry','Sector','Company Name','roe']]\n",
    "\n",
    "view.columns = ['Year','Industry','Sector','Company','roe']\n",
    "view=view[view.roe>0]\n",
    "\n",
    "view_sector_industry =view.groupby(['Year','Sector','Industry']).agg({'roe':'mean'}).dropna()\n",
    "\n",
    "path=['Year','Sector','Industry']\n",
    "values='roe'\n",
    "plt.get_sunburst(view_sector_industry.reset_index(),path,values)"
   ]
  },
  {
   "cell_type": "code",
   "execution_count": null,
   "metadata": {},
   "outputs": [],
   "source": [
    "year = 2019\n",
    "view = data[data['Fiscal Year'].isin([year])][['Fiscal Year','Industry','Sector','Company Name','roe']]\n",
    "\n",
    "view.columns = ['Year','Industry','Sector','Company','roe']\n",
    "view=view[view.roe>0]\n",
    "\n",
    "view_sector_industry =view.groupby(['Year','Sector','Company']).agg({'roe':'mean'}).dropna()\n",
    "\n",
    "path=['Year','Sector','Company']\n",
    "values='roe'\n",
    "plt.get_sunburst(view_sector_industry.reset_index(),path,values)"
   ]
  },
  {
   "cell_type": "code",
   "execution_count": null,
   "metadata": {},
   "outputs": [],
   "source": [
    "company = 'KIMBERLY CLARK CORP'#'USA TECHNOLOGIES INC' #'PerkinElmer'\n",
    "plt.show_micro_evolution(data,company =company,value = 'Net Income',index_value = 'Company Name')\n"
   ]
  },
  {
   "cell_type": "code",
   "execution_count": null,
   "metadata": {},
   "outputs": [],
   "source": [
    "plt.show_micro_evolution(data,company =company,value = 'roe',index_value = 'Company Name')"
   ]
  },
  {
   "cell_type": "code",
   "execution_count": null,
   "metadata": {},
   "outputs": [],
   "source": [
    "plt.show_micro_evolution(data,company =company,value = 'Total_Debt',index_value = 'Company Name')"
   ]
  },
  {
   "cell_type": "code",
   "execution_count": null,
   "metadata": {},
   "outputs": [],
   "source": [
    "plt.show_micro_evolution(data,company =company,value = 'roa',index_value = 'Company Name')"
   ]
  }
 ],
 "metadata": {
  "colab": {
   "collapsed_sections": [
    "9oWJmqgwq9va",
    "pQ_Fq4CxfeTb",
    "v7glbgT6LSZm",
    "uGbsrBipCHsM",
    "CYtKoa6X7awl",
    "48_bN_rj8ZUw",
    "Ijr0SJfk91H3",
    "G1lQnfurj2ZR"
   ],
   "name": "Copie de 5_DataFrame_Joining_Combining_Grouping_Complet.ipynb",
   "provenance": [],
   "toc_visible": true
  },
  "kernelspec": {
   "display_name": "Python 3",
   "language": "python",
   "name": "python3"
  },
  "language_info": {
   "codemirror_mode": {
    "name": "ipython",
    "version": 3
   },
   "file_extension": ".py",
   "mimetype": "text/x-python",
   "name": "python",
   "nbconvert_exporter": "python",
   "pygments_lexer": "ipython3",
   "version": "3.8.5"
  }
 },
 "nbformat": 4,
 "nbformat_minor": 1
}
