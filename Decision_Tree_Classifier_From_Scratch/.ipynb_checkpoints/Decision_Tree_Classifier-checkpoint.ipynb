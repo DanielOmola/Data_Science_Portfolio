{
 "cells": [
  {
   "cell_type": "markdown",
   "metadata": {
    "id": "Y0R9MWezE9uN"
   },
   "source": [
    "# 0 - Modules"
   ]
  },
  {
   "cell_type": "code",
   "execution_count": 1,
   "metadata": {
    "colab": {
     "base_uri": "https://localhost:8080/"
    },
    "id": "yaZldnE-NNC7",
    "outputId": "8d774d33-e2e4-4a05-bf72-c7904766b1c0"
   },
   "outputs": [],
   "source": [
    "# ##################################\n",
    "#\n",
    "#  much of the cod is stored in \n",
    "#  my package for more readability\n",
    "#\n",
    "# ################################## \n",
    "from mypackage import classifier as clf\n",
    "from mypackage import dataloader as dl\n",
    "\n",
    "import pandas as pd\n",
    "import numpy as np\n",
    "\n",
    "#! wget https://www.dropbox.com/s/7vnubx9wfhkm0jq/Housing_Data.zip\n",
    "#! wget https://www.dropbox.com/s/hg8wyg50zz2759y/Titanic_Data.zip\n",
    "#! ls\n"
   ]
  },
  {
   "cell_type": "markdown",
   "metadata": {
    "id": "0ceKfq3pQneV"
   },
   "source": [
    "# 1 - Load and split Data"
   ]
  },
  {
   "cell_type": "code",
   "execution_count": 2,
   "metadata": {},
   "outputs": [],
   "source": [
    "X_train, X_validation,y_train,y_validation = dl.get_data(zip_folder = 'Titanic_Data.zip',split_rate = .7,encoded=True)"
   ]
  },
  {
   "cell_type": "markdown",
   "metadata": {
    "id": "eEwEahgiI387"
   },
   "source": [
    "# 2 - My Decision Tree implementation"
   ]
  },
  {
   "cell_type": "markdown",
   "metadata": {},
   "source": [
    "## 2.1 - Instanciate and train the model"
   ]
  },
  {
   "cell_type": "code",
   "execution_count": 6,
   "metadata": {
    "colab": {
     "base_uri": "https://localhost:8080/"
    },
    "id": "HvjhXOPoVt0N",
    "outputId": "b03f908d-c0d1-4326-f082-64cb3a894b49"
   },
   "outputs": [
    {
     "data": {
      "text/plain": [
       "<mypackage.classifier.MyDecisionTreeClassifier at 0x2a2dbad9be0>"
      ]
     },
     "execution_count": 6,
     "metadata": {},
     "output_type": "execute_result"
    }
   ],
   "source": [
    "classifier = clf.MyDecisionTreeClassifier()\n",
    "classifier.fit(X_train, y_train, min_leaf = 2)"
   ]
  },
  {
   "cell_type": "markdown",
   "metadata": {},
   "source": [
    "## 2.2 - Performance on Train Set"
   ]
  },
  {
   "cell_type": "code",
   "execution_count": 7,
   "metadata": {
    "colab": {
     "base_uri": "https://localhost:8080/"
    },
    "id": "_HNgbpzlrsHY",
    "outputId": "eb9b2798-36fb-495f-e4cc-7450d8a85a04"
   },
   "outputs": [
    {
     "name": "stdout",
     "output_type": "stream",
     "text": [
      "----------- Performance Metrics ------------\n",
      "- Log Loss: 3.6758376363287537\n",
      "- Accuracy: 89.35742971887551\n",
      "- Recall: 89.86989331251627\n",
      "- Precision: 88.20820587844128\n",
      "- F1 Score: 88.82192755470666\n",
      "\n",
      "----------- Confusion Matrix ------------\n",
      "[[277  15]\n",
      " [ 38 168]]\n"
     ]
    }
   ],
   "source": [
    "preds = classifier.predict(X_train)\n",
    "clf.performance(preds, y_train)"
   ]
  },
  {
   "cell_type": "markdown",
   "metadata": {},
   "source": [
    "## 2.3 - Performance on Validation Set"
   ]
  },
  {
   "cell_type": "code",
   "execution_count": 8,
   "metadata": {
    "colab": {
     "base_uri": "https://localhost:8080/"
    },
    "id": "9S7drSMQAfRU",
    "outputId": "423541de-987a-4e52-e5a8-2f75e509dfbe"
   },
   "outputs": [
    {
     "name": "stdout",
     "output_type": "stream",
     "text": [
      "----------- Performance Metrics ------------\n",
      "- Log Loss: 6.455913310982107\n",
      "- Accuracy: 81.30841121495327\n",
      "- Recall: 80.37330316742081\n",
      "- Precision: 79.76718403547672\n",
      "- F1 Score: 80.03731343283582\n",
      "\n",
      "----------- Confusion Matrix ------------\n",
      "[[114  18]\n",
      " [ 22  60]]\n"
     ]
    }
   ],
   "source": [
    "preds = classifier.predict(X_validation)\n",
    "clf.performance(preds, y_validation)"
   ]
  },
  {
   "cell_type": "markdown",
   "metadata": {
    "id": "GBA9bBdAI72V"
   },
   "source": [
    "# 3 - Sklearn implementation"
   ]
  },
  {
   "cell_type": "markdown",
   "metadata": {},
   "source": [
    "## 3.1 - Instanciate and train the model"
   ]
  },
  {
   "cell_type": "code",
   "execution_count": 10,
   "metadata": {},
   "outputs": [
    {
     "data": {
      "text/plain": [
       "DecisionTreeClassifier()"
      ]
     },
     "execution_count": 10,
     "metadata": {},
     "output_type": "execute_result"
    }
   ],
   "source": [
    "from sklearn.tree import DecisionTreeClassifier\n",
    "\n",
    "classifier = DecisionTreeClassifier()\n",
    "classifier.fit(X_train, y_train)"
   ]
  },
  {
   "cell_type": "markdown",
   "metadata": {},
   "source": [
    "## 3.2 - Performance on Train Set"
   ]
  },
  {
   "cell_type": "code",
   "execution_count": 11,
   "metadata": {
    "colab": {
     "base_uri": "https://localhost:8080/"
    },
    "id": "XCWEkSKoJkWF",
    "outputId": "4ffe52f4-d1ca-480b-bff7-92ff92c5ceef"
   },
   "outputs": [
    {
     "name": "stdout",
     "output_type": "stream",
     "text": [
      "----------- Performance Metrics ------------\n",
      "- Log Loss: 0.6241947541248928\n",
      "- Accuracy: 98.19277108433735\n",
      "- Recall: 98.50498338870433\n",
      "- Precision: 97.81553398058253\n",
      "- F1 Score: 98.12452140146205\n",
      "\n",
      "----------- Confusion Matrix ------------\n",
      "[[292   0]\n",
      " [  9 197]]\n"
     ]
    }
   ],
   "source": [
    "preds = classifier.predict(X_train)\n",
    "clf.performance(preds, y_train)"
   ]
  },
  {
   "cell_type": "markdown",
   "metadata": {},
   "source": [
    "## 3.3 - Performance on Validation Set"
   ]
  },
  {
   "cell_type": "code",
   "execution_count": 13,
   "metadata": {
    "colab": {
     "base_uri": "https://localhost:8080/"
    },
    "id": "9N1VF5uRFyNt",
    "outputId": "d1cd1193-051c-4c5e-df26-45eaf69a3fdf"
   },
   "outputs": [
    {
     "name": "stdout",
     "output_type": "stream",
     "text": [
      "----------- Performance Metrics ------------\n",
      "- Log Loss: 7.262901540745722\n",
      "- Accuracy: 78.97196261682244\n",
      "- Recall: 77.88889942174613\n",
      "- Precision: 77.18033998521803\n",
      "- F1 Score: 77.48474433611558\n",
      "\n",
      "----------- Confusion Matrix ------------\n",
      "[[112  20]\n",
      " [ 25  57]]\n"
     ]
    }
   ],
   "source": [
    "preds = classifier.predict(X_validation)\n",
    "clf.performance(preds, y_validation)"
   ]
  }
 ],
 "metadata": {
  "colab": {
   "collapsed_sections": [
    "qWDPJFUYXRWG",
    "0ceKfq3pQneV"
   ],
   "name": "Decision_Tree_Regression.ipynb",
   "provenance": [],
   "toc_visible": true
  },
  "kernelspec": {
   "display_name": "Python 3",
   "language": "python",
   "name": "python3"
  },
  "language_info": {
   "codemirror_mode": {
    "name": "ipython",
    "version": 3
   },
   "file_extension": ".py",
   "mimetype": "text/x-python",
   "name": "python",
   "nbconvert_exporter": "python",
   "pygments_lexer": "ipython3",
   "version": "3.8.5"
  }
 },
 "nbformat": 4,
 "nbformat_minor": 1
}
